{
 "cells": [
  {
   "cell_type": "markdown",
   "id": "1350438a",
   "metadata": {},
   "source": [
    "# Vehicle Insurance Prediction Using Machine Learning\n",
    "\n",
    "\n",
    "## 1. Problem Satement and Summary\n",
    "\n",
    "> Predicting Customer Response to Vehicle Insurance Offers\n",
    "\n",
    "> An `Insurance` company has collected data on customers who were approached with vehicle insurance offers\n",
    "This notebook looks into using various Python-Based Machine Learning and Data Science libraries in an attempt to build a Machine Learning model capable of predicting whether or not an individual will respond positively to a vehicle insurance offer.\n",
    "\n",
    "## 2. Data \n",
    "> The Data came form my Data Science learning institute (BIA) as the capstone project dataset assigned by `Mahaveer Sahu` (Trainer)\n",
    "\n",
    "## 3. Evaluation \n",
    "> The sucess of the model will be measured by it's accuracy in predicting customer response. \n",
    "\n",
    "## 4. Features \n",
    "> This is where you'll get different information about each of the features in our data :\n",
    "\n",
    "**Data Dictionary :**\n",
    "\n",
    "**ID**: It serves as a unique identifier for each data entry.\n",
    "\n",
    "**Gender**: The “Gender” column indicates the gender of individuals, with entries including both “Male” and “Female.”\n",
    "\n",
    "**Age**: This column shows the age of individuals.\n",
    "\n",
    "**Driving License**: The “Driving License” column contains binary data represented by ‘1’, indicating that all listed individuals possess a driving license\n",
    "\n",
    "**Region Code**: This column displays numerical codes representing different regions. The numbers vary, suggesting that the individuals are from diverse areas\n",
    "\n",
    "**Previously Insured**: In this column, binary data is used to indicate whether (‘1’) or not (‘0’) an individual was previously insured\n",
    "\n",
    "**Vehicle Age**: This column categorizes vehicles into three age groups: less than one year (“<1 Year”), one to two years (“1-2 Year”), and over two years (“>2 Years”).\n",
    "\n",
    "**Vehicle Damage Column**: It uses ‘Yes’ and ‘No’ entries to indicate whether the vehicle has experienced damage in the past\n",
    "\n",
    "**Annual Premium**:  This numerical data represents the annual premium amounts paid by individuals for their insurance policies. The values vary widely among different entries.\n",
    "\n",
    "**Policy Sales Channel**: Represented by numerical values, this column indicates various channels through which insurance policies were sold.\n",
    "\n",
    "**Vintage**: Vintage refers to the number of days an individual has been associated with the insurance company.\n",
    "\n",
    "**Response**: Binary data in this final column indicates whether (‘1’) or not (‘0’) an individual is interested in a vehicle insurance offer.\n",
    "\n",
    "**Response column is our target variable**\n",
    "\n",
    "\n",
    "## Key Questions :\n",
    "\n",
    "1. What are the differrent features that affect the `Response` column ?\n",
    "2. How can we effectively use the available data to predict whether an individual will be intrested in purchasing insurance ?\n",
    "3. Which machine learning algorithm is suitable for this classification problem ?\n",
    "\n",
    " "
   ]
  },
  {
   "cell_type": "markdown",
   "id": "bc36beb7",
   "metadata": {},
   "source": [
    "## Tools we are going to use in this Notebook\n",
    "\n",
    "1. Pandas, Numpy, MatlplotLib and Seaborn for data analysis, preprocessing and manipulation\n",
    "2. From SciKit-Learn Library we use `RandomForestClassifier`, `LogisticRegression`, `GradientBoostingClassifier`, `KNeighborsClassifier`, & `DecisionTreeClassifier` for Modelling and we will select the best model after the evaluation \n",
    "\n",
    "### Standard Imports :\n",
    "(We will import more libraries in future if needed)"
   ]
  },
  {
   "cell_type": "code",
   "execution_count": 59,
   "id": "637e8832",
   "metadata": {},
   "outputs": [],
   "source": [
    "# For Data Analysis and Manipulation\n",
    "import pandas as pd \n",
    "import numpy as np \n",
    "import matplotlib.pyplot as plt\n",
    "import seaborn as sns\n",
    "\n",
    "# We need out plots to appear inside the notebook\n",
    "%matplotlib inline\n",
    "\n",
    "# Models form SciKit-Learn \n",
    "from sklearn.ensemble import RandomForestClassifier, GradientBoostingClassifier\n",
    "from sklearn.linear_model import LogisticRegression\n",
    "from sklearn.neighbors import KNeighborsClassifier\n",
    "from sklearn.tree import DecisionTreeClassifier\n",
    "\n",
    "# For Preprocessing\n",
    "from sklearn.model_selection import train_test_split, cross_val_score\n",
    "from sklearn.preprocessing import OneHotEncoder\n",
    "from sklearn.compose import ColumnTransformer\n",
    "from sklearn.preprocessing import StandardScaler, MinMaxScaler\n",
    "from imblearn.over_sampling import SMOTE\n",
    "from scipy.stats import stats\n",
    "\n",
    "# For Evaluation\n",
    "from sklearn.model_selection import RandomizedSearchCV, GridSearchCV\n",
    "from sklearn import metrics\n",
    "from sklearn.metrics import roc_curve, auc, roc_auc_score\n",
    "from sklearn.metrics import precision_score, recall_score, f1_score\n",
    "from sklearn.metrics import confusion_matrix, classification_report"
   ]
  },
  {
   "cell_type": "markdown",
   "id": "139c1755",
   "metadata": {},
   "source": [
    "# Load the data"
   ]
  },
  {
   "cell_type": "code",
   "execution_count": 60,
   "id": "d37a2638",
   "metadata": {
    "scrolled": false
   },
   "outputs": [
    {
     "data": {
      "text/html": [
       "<div>\n",
       "<style scoped>\n",
       "    .dataframe tbody tr th:only-of-type {\n",
       "        vertical-align: middle;\n",
       "    }\n",
       "\n",
       "    .dataframe tbody tr th {\n",
       "        vertical-align: top;\n",
       "    }\n",
       "\n",
       "    .dataframe thead th {\n",
       "        text-align: right;\n",
       "    }\n",
       "</style>\n",
       "<table border=\"1\" class=\"dataframe\">\n",
       "  <thead>\n",
       "    <tr style=\"text-align: right;\">\n",
       "      <th></th>\n",
       "      <th>0</th>\n",
       "      <th>1</th>\n",
       "      <th>2</th>\n",
       "      <th>3</th>\n",
       "      <th>4</th>\n",
       "    </tr>\n",
       "  </thead>\n",
       "  <tbody>\n",
       "    <tr>\n",
       "      <th>id</th>\n",
       "      <td>1</td>\n",
       "      <td>2</td>\n",
       "      <td>3</td>\n",
       "      <td>4</td>\n",
       "      <td>5</td>\n",
       "    </tr>\n",
       "    <tr>\n",
       "      <th>Gender</th>\n",
       "      <td>Male</td>\n",
       "      <td>Male</td>\n",
       "      <td>Male</td>\n",
       "      <td>Male</td>\n",
       "      <td>Female</td>\n",
       "    </tr>\n",
       "    <tr>\n",
       "      <th>Age</th>\n",
       "      <td>44</td>\n",
       "      <td>76</td>\n",
       "      <td>47</td>\n",
       "      <td>21</td>\n",
       "      <td>29</td>\n",
       "    </tr>\n",
       "    <tr>\n",
       "      <th>Driving_License</th>\n",
       "      <td>1</td>\n",
       "      <td>1</td>\n",
       "      <td>1</td>\n",
       "      <td>1</td>\n",
       "      <td>1</td>\n",
       "    </tr>\n",
       "    <tr>\n",
       "      <th>Region_Code</th>\n",
       "      <td>28</td>\n",
       "      <td>3</td>\n",
       "      <td>28</td>\n",
       "      <td>11</td>\n",
       "      <td>41</td>\n",
       "    </tr>\n",
       "    <tr>\n",
       "      <th>Previously_Insured</th>\n",
       "      <td>0</td>\n",
       "      <td>0</td>\n",
       "      <td>0</td>\n",
       "      <td>1</td>\n",
       "      <td>1</td>\n",
       "    </tr>\n",
       "    <tr>\n",
       "      <th>Vehicle_Age</th>\n",
       "      <td>&gt; 2 Years</td>\n",
       "      <td>1-2 Year</td>\n",
       "      <td>&gt; 2 Years</td>\n",
       "      <td>&lt; 1 Year</td>\n",
       "      <td>&lt; 1 Year</td>\n",
       "    </tr>\n",
       "    <tr>\n",
       "      <th>Vehicle_Damage</th>\n",
       "      <td>Yes</td>\n",
       "      <td>No</td>\n",
       "      <td>Yes</td>\n",
       "      <td>No</td>\n",
       "      <td>No</td>\n",
       "    </tr>\n",
       "    <tr>\n",
       "      <th>Annual_Premium</th>\n",
       "      <td>40454</td>\n",
       "      <td>33536</td>\n",
       "      <td>38294</td>\n",
       "      <td>28619</td>\n",
       "      <td>27496</td>\n",
       "    </tr>\n",
       "    <tr>\n",
       "      <th>Policy_Sales_Channel</th>\n",
       "      <td>26</td>\n",
       "      <td>26</td>\n",
       "      <td>26</td>\n",
       "      <td>152</td>\n",
       "      <td>152</td>\n",
       "    </tr>\n",
       "    <tr>\n",
       "      <th>Vintage</th>\n",
       "      <td>217</td>\n",
       "      <td>183</td>\n",
       "      <td>27</td>\n",
       "      <td>203</td>\n",
       "      <td>39</td>\n",
       "    </tr>\n",
       "    <tr>\n",
       "      <th>Response</th>\n",
       "      <td>1</td>\n",
       "      <td>0</td>\n",
       "      <td>1</td>\n",
       "      <td>0</td>\n",
       "      <td>0</td>\n",
       "    </tr>\n",
       "  </tbody>\n",
       "</table>\n",
       "</div>"
      ],
      "text/plain": [
       "                              0         1          2         3         4\n",
       "id                            1         2          3         4         5\n",
       "Gender                     Male      Male       Male      Male    Female\n",
       "Age                          44        76         47        21        29\n",
       "Driving_License               1         1          1         1         1\n",
       "Region_Code                  28         3         28        11        41\n",
       "Previously_Insured            0         0          0         1         1\n",
       "Vehicle_Age           > 2 Years  1-2 Year  > 2 Years  < 1 Year  < 1 Year\n",
       "Vehicle_Damage              Yes        No        Yes        No        No\n",
       "Annual_Premium            40454     33536      38294     28619     27496\n",
       "Policy_Sales_Channel         26        26         26       152       152\n",
       "Vintage                     217       183         27       203        39\n",
       "Response                      1         0          1         0         0"
      ]
     },
     "execution_count": 60,
     "metadata": {},
     "output_type": "execute_result"
    }
   ],
   "source": [
    "data = pd.read_csv(\"customer_response.csv\")\n",
    "data.head().T"
   ]
  },
  {
   "cell_type": "code",
   "execution_count": 61,
   "id": "d8f1969c",
   "metadata": {},
   "outputs": [],
   "source": [
    "data_column_names = {\"id\",                  \n",
    "                     \"Gender\",           \n",
    "                     \"Age\",             \n",
    "                     \"Driving_License\",\n",
    "                     \"Region_Code\",\n",
    "                     \"Previously_Insured\",\n",
    "                     \"Vehicle_Age\",\n",
    "                     \"Vehicle_Damage\",\n",
    "                     \"Annual_Premium\",\n",
    "                     \"Policy_Sales_Channel\",\n",
    "                     \"Vintage \",\n",
    "                     \"Response\"}"
   ]
  },
  {
   "cell_type": "markdown",
   "id": "8003c26b",
   "metadata": {},
   "source": [
    "# Part 1 `DATA ANALYSIS`"
   ]
  },
  {
   "cell_type": "code",
   "execution_count": 62,
   "id": "bd0772ae",
   "metadata": {},
   "outputs": [
    {
     "data": {
      "text/plain": [
       "(381109, 12)"
      ]
     },
     "execution_count": 62,
     "metadata": {},
     "output_type": "execute_result"
    }
   ],
   "source": [
    "# No. of rows and columns \n",
    "data.shape"
   ]
  },
  {
   "cell_type": "code",
   "execution_count": 63,
   "id": "88023f4b",
   "metadata": {},
   "outputs": [
    {
     "data": {
      "text/html": [
       "<div>\n",
       "<style scoped>\n",
       "    .dataframe tbody tr th:only-of-type {\n",
       "        vertical-align: middle;\n",
       "    }\n",
       "\n",
       "    .dataframe tbody tr th {\n",
       "        vertical-align: top;\n",
       "    }\n",
       "\n",
       "    .dataframe thead th {\n",
       "        text-align: right;\n",
       "    }\n",
       "</style>\n",
       "<table border=\"1\" class=\"dataframe\">\n",
       "  <thead>\n",
       "    <tr style=\"text-align: right;\">\n",
       "      <th></th>\n",
       "      <th>id</th>\n",
       "      <th>Gender</th>\n",
       "      <th>Age</th>\n",
       "      <th>Driving_License</th>\n",
       "      <th>Region_Code</th>\n",
       "      <th>Previously_Insured</th>\n",
       "      <th>Vehicle_Age</th>\n",
       "      <th>Vehicle_Damage</th>\n",
       "      <th>Annual_Premium</th>\n",
       "      <th>Policy_Sales_Channel</th>\n",
       "      <th>Vintage</th>\n",
       "      <th>Response</th>\n",
       "    </tr>\n",
       "  </thead>\n",
       "  <tbody>\n",
       "    <tr>\n",
       "      <th>0</th>\n",
       "      <td>1</td>\n",
       "      <td>Male</td>\n",
       "      <td>44</td>\n",
       "      <td>1</td>\n",
       "      <td>28</td>\n",
       "      <td>0</td>\n",
       "      <td>&gt; 2 Years</td>\n",
       "      <td>Yes</td>\n",
       "      <td>40454</td>\n",
       "      <td>26</td>\n",
       "      <td>217</td>\n",
       "      <td>1</td>\n",
       "    </tr>\n",
       "    <tr>\n",
       "      <th>1</th>\n",
       "      <td>2</td>\n",
       "      <td>Male</td>\n",
       "      <td>76</td>\n",
       "      <td>1</td>\n",
       "      <td>3</td>\n",
       "      <td>0</td>\n",
       "      <td>1-2 Year</td>\n",
       "      <td>No</td>\n",
       "      <td>33536</td>\n",
       "      <td>26</td>\n",
       "      <td>183</td>\n",
       "      <td>0</td>\n",
       "    </tr>\n",
       "    <tr>\n",
       "      <th>2</th>\n",
       "      <td>3</td>\n",
       "      <td>Male</td>\n",
       "      <td>47</td>\n",
       "      <td>1</td>\n",
       "      <td>28</td>\n",
       "      <td>0</td>\n",
       "      <td>&gt; 2 Years</td>\n",
       "      <td>Yes</td>\n",
       "      <td>38294</td>\n",
       "      <td>26</td>\n",
       "      <td>27</td>\n",
       "      <td>1</td>\n",
       "    </tr>\n",
       "    <tr>\n",
       "      <th>3</th>\n",
       "      <td>4</td>\n",
       "      <td>Male</td>\n",
       "      <td>21</td>\n",
       "      <td>1</td>\n",
       "      <td>11</td>\n",
       "      <td>1</td>\n",
       "      <td>&lt; 1 Year</td>\n",
       "      <td>No</td>\n",
       "      <td>28619</td>\n",
       "      <td>152</td>\n",
       "      <td>203</td>\n",
       "      <td>0</td>\n",
       "    </tr>\n",
       "    <tr>\n",
       "      <th>4</th>\n",
       "      <td>5</td>\n",
       "      <td>Female</td>\n",
       "      <td>29</td>\n",
       "      <td>1</td>\n",
       "      <td>41</td>\n",
       "      <td>1</td>\n",
       "      <td>&lt; 1 Year</td>\n",
       "      <td>No</td>\n",
       "      <td>27496</td>\n",
       "      <td>152</td>\n",
       "      <td>39</td>\n",
       "      <td>0</td>\n",
       "    </tr>\n",
       "    <tr>\n",
       "      <th>5</th>\n",
       "      <td>6</td>\n",
       "      <td>Female</td>\n",
       "      <td>24</td>\n",
       "      <td>1</td>\n",
       "      <td>33</td>\n",
       "      <td>0</td>\n",
       "      <td>&lt; 1 Year</td>\n",
       "      <td>Yes</td>\n",
       "      <td>2630</td>\n",
       "      <td>160</td>\n",
       "      <td>176</td>\n",
       "      <td>0</td>\n",
       "    </tr>\n",
       "    <tr>\n",
       "      <th>6</th>\n",
       "      <td>7</td>\n",
       "      <td>Male</td>\n",
       "      <td>23</td>\n",
       "      <td>1</td>\n",
       "      <td>11</td>\n",
       "      <td>0</td>\n",
       "      <td>&lt; 1 Year</td>\n",
       "      <td>Yes</td>\n",
       "      <td>23367</td>\n",
       "      <td>152</td>\n",
       "      <td>249</td>\n",
       "      <td>0</td>\n",
       "    </tr>\n",
       "    <tr>\n",
       "      <th>7</th>\n",
       "      <td>8</td>\n",
       "      <td>Female</td>\n",
       "      <td>56</td>\n",
       "      <td>1</td>\n",
       "      <td>28</td>\n",
       "      <td>0</td>\n",
       "      <td>1-2 Year</td>\n",
       "      <td>Yes</td>\n",
       "      <td>32031</td>\n",
       "      <td>26</td>\n",
       "      <td>72</td>\n",
       "      <td>1</td>\n",
       "    </tr>\n",
       "  </tbody>\n",
       "</table>\n",
       "</div>"
      ],
      "text/plain": [
       "   id  Gender  Age  Driving_License  Region_Code  Previously_Insured  \\\n",
       "0   1    Male   44                1           28                   0   \n",
       "1   2    Male   76                1            3                   0   \n",
       "2   3    Male   47                1           28                   0   \n",
       "3   4    Male   21                1           11                   1   \n",
       "4   5  Female   29                1           41                   1   \n",
       "5   6  Female   24                1           33                   0   \n",
       "6   7    Male   23                1           11                   0   \n",
       "7   8  Female   56                1           28                   0   \n",
       "\n",
       "  Vehicle_Age Vehicle_Damage  Annual_Premium  Policy_Sales_Channel  Vintage  \\\n",
       "0   > 2 Years            Yes           40454                    26      217   \n",
       "1    1-2 Year             No           33536                    26      183   \n",
       "2   > 2 Years            Yes           38294                    26       27   \n",
       "3    < 1 Year             No           28619                   152      203   \n",
       "4    < 1 Year             No           27496                   152       39   \n",
       "5    < 1 Year            Yes            2630                   160      176   \n",
       "6    < 1 Year            Yes           23367                   152      249   \n",
       "7    1-2 Year            Yes           32031                    26       72   \n",
       "\n",
       "   Response  \n",
       "0         1  \n",
       "1         0  \n",
       "2         1  \n",
       "3         0  \n",
       "4         0  \n",
       "5         0  \n",
       "6         0  \n",
       "7         1  "
      ]
     },
     "execution_count": 63,
     "metadata": {},
     "output_type": "execute_result"
    }
   ],
   "source": [
    "data.head(8)"
   ]
  },
  {
   "cell_type": "markdown",
   "id": "fa24f984",
   "metadata": {},
   "source": [
    "**1.We can delete the `id` column as it is not usefull for modelling but we will do it later in the preprocessing step**"
   ]
  },
  {
   "cell_type": "code",
   "execution_count": 64,
   "id": "73ffc125",
   "metadata": {
    "scrolled": true
   },
   "outputs": [
    {
     "name": "stdout",
     "output_type": "stream",
     "text": [
      "<class 'pandas.core.frame.DataFrame'>\n",
      "RangeIndex: 381109 entries, 0 to 381108\n",
      "Data columns (total 12 columns):\n",
      " #   Column                Non-Null Count   Dtype \n",
      "---  ------                --------------   ----- \n",
      " 0   id                    381109 non-null  int64 \n",
      " 1   Gender                381109 non-null  object\n",
      " 2   Age                   381109 non-null  int64 \n",
      " 3   Driving_License       381109 non-null  int64 \n",
      " 4   Region_Code           381109 non-null  int64 \n",
      " 5   Previously_Insured    381109 non-null  int64 \n",
      " 6   Vehicle_Age           381109 non-null  object\n",
      " 7   Vehicle_Damage        381109 non-null  object\n",
      " 8   Annual_Premium        381109 non-null  int64 \n",
      " 9   Policy_Sales_Channel  381109 non-null  int64 \n",
      " 10  Vintage               381109 non-null  int64 \n",
      " 11  Response              381109 non-null  int64 \n",
      "dtypes: int64(9), object(3)\n",
      "memory usage: 34.9+ MB\n"
     ]
    }
   ],
   "source": [
    "data.info();"
   ]
  },
  {
   "cell_type": "markdown",
   "id": "85b8bc9c",
   "metadata": {},
   "source": [
    "#### Check for Object columns "
   ]
  },
  {
   "cell_type": "code",
   "execution_count": 65,
   "id": "75b19e1f",
   "metadata": {},
   "outputs": [
    {
     "data": {
      "text/plain": [
       "Index(['Gender', 'Vehicle_Age', 'Vehicle_Damage'], dtype='object')"
      ]
     },
     "execution_count": 65,
     "metadata": {},
     "output_type": "execute_result"
    }
   ],
   "source": [
    "object_column = data.select_dtypes(include=['object']).columns\n",
    "object_column"
   ]
  },
  {
   "cell_type": "markdown",
   "id": "364dd718",
   "metadata": {},
   "source": [
    "**There are only 3 columns which is of Object datatype i.e string**\n",
    "1. Gender\n",
    "2. Vehicle_Age\n",
    "3. Vehicle_Damage\n",
    " \n",
    ">`Gender` `Vehicle_Age` & `Vehicle_Damage` are Categorical features (Use One_Hot_Encoder)\n",
    "\n",
    " "
   ]
  },
  {
   "cell_type": "markdown",
   "id": "5122b8d0",
   "metadata": {},
   "source": [
    "**Check for Null values**"
   ]
  },
  {
   "cell_type": "code",
   "execution_count": 66,
   "id": "2594328e",
   "metadata": {
    "scrolled": true
   },
   "outputs": [
    {
     "data": {
      "text/plain": [
       "id                      0\n",
       "Gender                  0\n",
       "Age                     0\n",
       "Driving_License         0\n",
       "Region_Code             0\n",
       "Previously_Insured      0\n",
       "Vehicle_Age             0\n",
       "Vehicle_Damage          0\n",
       "Annual_Premium          0\n",
       "Policy_Sales_Channel    0\n",
       "Vintage                 0\n",
       "Response                0\n",
       "dtype: int64"
      ]
     },
     "execution_count": 66,
     "metadata": {},
     "output_type": "execute_result"
    }
   ],
   "source": [
    "data.isna().sum()"
   ]
  },
  {
   "cell_type": "markdown",
   "id": "927ee60a",
   "metadata": {},
   "source": [
    "**Statistical Summary**"
   ]
  },
  {
   "cell_type": "code",
   "execution_count": 67,
   "id": "8ef7fd97",
   "metadata": {},
   "outputs": [
    {
     "data": {
      "text/html": [
       "<div>\n",
       "<style scoped>\n",
       "    .dataframe tbody tr th:only-of-type {\n",
       "        vertical-align: middle;\n",
       "    }\n",
       "\n",
       "    .dataframe tbody tr th {\n",
       "        vertical-align: top;\n",
       "    }\n",
       "\n",
       "    .dataframe thead th {\n",
       "        text-align: right;\n",
       "    }\n",
       "</style>\n",
       "<table border=\"1\" class=\"dataframe\">\n",
       "  <thead>\n",
       "    <tr style=\"text-align: right;\">\n",
       "      <th></th>\n",
       "      <th>count</th>\n",
       "      <th>mean</th>\n",
       "      <th>std</th>\n",
       "      <th>min</th>\n",
       "      <th>25%</th>\n",
       "      <th>50%</th>\n",
       "      <th>75%</th>\n",
       "      <th>max</th>\n",
       "    </tr>\n",
       "  </thead>\n",
       "  <tbody>\n",
       "    <tr>\n",
       "      <th>id</th>\n",
       "      <td>381109.0</td>\n",
       "      <td>190555.000000</td>\n",
       "      <td>110016.836208</td>\n",
       "      <td>1.0</td>\n",
       "      <td>95278.0</td>\n",
       "      <td>190555.0</td>\n",
       "      <td>285832.0</td>\n",
       "      <td>381109.0</td>\n",
       "    </tr>\n",
       "    <tr>\n",
       "      <th>Age</th>\n",
       "      <td>381109.0</td>\n",
       "      <td>38.822584</td>\n",
       "      <td>15.511611</td>\n",
       "      <td>20.0</td>\n",
       "      <td>25.0</td>\n",
       "      <td>36.0</td>\n",
       "      <td>49.0</td>\n",
       "      <td>85.0</td>\n",
       "    </tr>\n",
       "    <tr>\n",
       "      <th>Driving_License</th>\n",
       "      <td>381109.0</td>\n",
       "      <td>0.997869</td>\n",
       "      <td>0.046110</td>\n",
       "      <td>0.0</td>\n",
       "      <td>1.0</td>\n",
       "      <td>1.0</td>\n",
       "      <td>1.0</td>\n",
       "      <td>1.0</td>\n",
       "    </tr>\n",
       "    <tr>\n",
       "      <th>Region_Code</th>\n",
       "      <td>381109.0</td>\n",
       "      <td>26.388807</td>\n",
       "      <td>13.229888</td>\n",
       "      <td>0.0</td>\n",
       "      <td>15.0</td>\n",
       "      <td>28.0</td>\n",
       "      <td>35.0</td>\n",
       "      <td>52.0</td>\n",
       "    </tr>\n",
       "    <tr>\n",
       "      <th>Previously_Insured</th>\n",
       "      <td>381109.0</td>\n",
       "      <td>0.458210</td>\n",
       "      <td>0.498251</td>\n",
       "      <td>0.0</td>\n",
       "      <td>0.0</td>\n",
       "      <td>0.0</td>\n",
       "      <td>1.0</td>\n",
       "      <td>1.0</td>\n",
       "    </tr>\n",
       "    <tr>\n",
       "      <th>Annual_Premium</th>\n",
       "      <td>381109.0</td>\n",
       "      <td>30564.389581</td>\n",
       "      <td>17213.155057</td>\n",
       "      <td>2630.0</td>\n",
       "      <td>24405.0</td>\n",
       "      <td>31669.0</td>\n",
       "      <td>39400.0</td>\n",
       "      <td>540165.0</td>\n",
       "    </tr>\n",
       "    <tr>\n",
       "      <th>Policy_Sales_Channel</th>\n",
       "      <td>381109.0</td>\n",
       "      <td>112.034295</td>\n",
       "      <td>54.203995</td>\n",
       "      <td>1.0</td>\n",
       "      <td>29.0</td>\n",
       "      <td>133.0</td>\n",
       "      <td>152.0</td>\n",
       "      <td>163.0</td>\n",
       "    </tr>\n",
       "    <tr>\n",
       "      <th>Vintage</th>\n",
       "      <td>381109.0</td>\n",
       "      <td>154.347397</td>\n",
       "      <td>83.671304</td>\n",
       "      <td>10.0</td>\n",
       "      <td>82.0</td>\n",
       "      <td>154.0</td>\n",
       "      <td>227.0</td>\n",
       "      <td>299.0</td>\n",
       "    </tr>\n",
       "    <tr>\n",
       "      <th>Response</th>\n",
       "      <td>381109.0</td>\n",
       "      <td>0.122563</td>\n",
       "      <td>0.327936</td>\n",
       "      <td>0.0</td>\n",
       "      <td>0.0</td>\n",
       "      <td>0.0</td>\n",
       "      <td>0.0</td>\n",
       "      <td>1.0</td>\n",
       "    </tr>\n",
       "  </tbody>\n",
       "</table>\n",
       "</div>"
      ],
      "text/plain": [
       "                         count           mean            std     min      25%  \\\n",
       "id                    381109.0  190555.000000  110016.836208     1.0  95278.0   \n",
       "Age                   381109.0      38.822584      15.511611    20.0     25.0   \n",
       "Driving_License       381109.0       0.997869       0.046110     0.0      1.0   \n",
       "Region_Code           381109.0      26.388807      13.229888     0.0     15.0   \n",
       "Previously_Insured    381109.0       0.458210       0.498251     0.0      0.0   \n",
       "Annual_Premium        381109.0   30564.389581   17213.155057  2630.0  24405.0   \n",
       "Policy_Sales_Channel  381109.0     112.034295      54.203995     1.0     29.0   \n",
       "Vintage               381109.0     154.347397      83.671304    10.0     82.0   \n",
       "Response              381109.0       0.122563       0.327936     0.0      0.0   \n",
       "\n",
       "                           50%       75%       max  \n",
       "id                    190555.0  285832.0  381109.0  \n",
       "Age                       36.0      49.0      85.0  \n",
       "Driving_License            1.0       1.0       1.0  \n",
       "Region_Code               28.0      35.0      52.0  \n",
       "Previously_Insured         0.0       1.0       1.0  \n",
       "Annual_Premium         31669.0   39400.0  540165.0  \n",
       "Policy_Sales_Channel     133.0     152.0     163.0  \n",
       "Vintage                  154.0     227.0     299.0  \n",
       "Response                   0.0       0.0       1.0  "
      ]
     },
     "execution_count": 67,
     "metadata": {},
     "output_type": "execute_result"
    }
   ],
   "source": [
    "data.describe().T"
   ]
  },
  {
   "cell_type": "markdown",
   "id": "7dd712ab",
   "metadata": {},
   "source": [
    "### Create a value counting function so that we don't repeat the code \n",
    "**Let's create a function to find the value counts for the specified columns and put it in a dataframe so that we can get better understanding of our dataset**"
   ]
  },
  {
   "cell_type": "code",
   "execution_count": 68,
   "id": "8649238c",
   "metadata": {},
   "outputs": [],
   "source": [
    "# Defining the Function\n",
    "def get_column_val_counts(df, column_name):\n",
    "    \n",
    "    val_counts_df = data[column_name].value_counts().reset_index() # This variable stores the column's value counts and resets the index\n",
    "    val_counts_df.columns = [\"Value\", \"Count\"]\n",
    "    \n",
    "    return val_counts_df\n",
    "    \"\"\"\n",
    "    Get value counts for a specified column in a DataFrame.\n",
    "\n",
    "    Parameters:\n",
    "        df (DataFrame): The DataFrame containing the data.\n",
    "        column_name (str): The name of the column for which value counts are to be calculated.\n",
    "\n",
    "    Returns:\n",
    "        DataFrame: A DataFrame containing the value counts for the specified column.\n",
    "    \"\"\""
   ]
  },
  {
   "cell_type": "code",
   "execution_count": 69,
   "id": "e809b3b3",
   "metadata": {
    "collapsed": true
   },
   "outputs": [
    {
     "name": "stdout",
     "output_type": "stream",
     "text": [
      "Column : id\n",
      "         Value  Count\n",
      "0            1      1\n",
      "1       254071      1\n",
      "2       254080      1\n",
      "3       254079      1\n",
      "4       254078      1\n",
      "...        ...    ...\n",
      "381104  127035      1\n",
      "381105  127034      1\n",
      "381106  127033      1\n",
      "381107  127032      1\n",
      "381108  381109      1\n",
      "\n",
      "[381109 rows x 2 columns]\n",
      "\n",
      "Column : Gender\n",
      "    Value   Count\n",
      "0    Male  206089\n",
      "1  Female  175020\n",
      "\n",
      "Column : Age\n",
      "    Value  Count\n",
      "0      24  25960\n",
      "1      23  24256\n",
      "2      22  20964\n",
      "3      25  20636\n",
      "4      21  16457\n",
      "..    ...    ...\n",
      "61     81     56\n",
      "62     82     29\n",
      "63     83     22\n",
      "64     84     11\n",
      "65     85     11\n",
      "\n",
      "[66 rows x 2 columns]\n",
      "\n",
      "Column : Driving_License\n",
      "   Value   Count\n",
      "0      1  380297\n",
      "1      0     812\n",
      "\n",
      "Column : Region_Code\n",
      "    Value   Count\n",
      "0      28  106415\n",
      "1       8   33877\n",
      "2      46   19749\n",
      "3      41   18263\n",
      "4      15   13308\n",
      "5      30   12191\n",
      "6      29   11065\n",
      "7      50   10243\n",
      "8       3    9251\n",
      "9      11    9232\n",
      "10     36    8797\n",
      "11     33    7654\n",
      "12     47    7436\n",
      "13     35    6942\n",
      "14      6    6280\n",
      "15     45    5605\n",
      "16     37    5501\n",
      "17     18    5153\n",
      "18     48    4681\n",
      "19     14    4678\n",
      "20     39    4644\n",
      "21     10    4374\n",
      "22     21    4266\n",
      "23      2    4038\n",
      "24     13    4036\n",
      "25      7    3279\n",
      "26     12    3198\n",
      "27      9    3101\n",
      "28     27    2823\n",
      "29     32    2787\n",
      "30     43    2639\n",
      "31     17    2617\n",
      "32     26    2587\n",
      "33     25    2503\n",
      "34     24    2415\n",
      "35     38    2026\n",
      "36      0    2021\n",
      "37     16    2007\n",
      "38     31    1960\n",
      "39     23    1960\n",
      "40     20    1935\n",
      "41     49    1832\n",
      "42      4    1801\n",
      "43     34    1664\n",
      "44     19    1535\n",
      "45     22    1309\n",
      "46     40    1295\n",
      "47      5    1279\n",
      "48      1    1008\n",
      "49     44     808\n",
      "50     42     591\n",
      "51     52     267\n",
      "52     51     183\n",
      "\n",
      "Column : Previously_Insured\n",
      "   Value   Count\n",
      "0      0  206481\n",
      "1      1  174628\n",
      "\n",
      "Column : Vehicle_Age\n",
      "       Value   Count\n",
      "0   1-2 Year  200316\n",
      "1   < 1 Year  164786\n",
      "2  > 2 Years   16007\n",
      "\n",
      "Column : Vehicle_Damage\n",
      "  Value   Count\n",
      "0   Yes  192413\n",
      "1    No  188696\n",
      "\n",
      "Column : Annual_Premium\n",
      "        Value  Count\n",
      "0        2630  64877\n",
      "1       69856    140\n",
      "2       39008     41\n",
      "3       38287     38\n",
      "4       45179     38\n",
      "...       ...    ...\n",
      "48833   14838      1\n",
      "48834   52535      1\n",
      "48835   15182      1\n",
      "48836  143525      1\n",
      "48837   69845      1\n",
      "\n",
      "[48838 rows x 2 columns]\n",
      "\n",
      "Column : Policy_Sales_Channel\n",
      "     Value   Count\n",
      "0      152  134784\n",
      "1       26   79700\n",
      "2      124   73995\n",
      "3      160   21779\n",
      "4      156   10661\n",
      "..     ...     ...\n",
      "150    149       1\n",
      "151     43       1\n",
      "152    144       1\n",
      "153    143       1\n",
      "154     41       1\n",
      "\n",
      "[155 rows x 2 columns]\n",
      "\n",
      "Column : Vintage\n",
      "     Value  Count\n",
      "0      256   1418\n",
      "1       73   1410\n",
      "2      282   1397\n",
      "3      158   1394\n",
      "4      187   1392\n",
      "..     ...    ...\n",
      "285    205   1235\n",
      "286     89   1234\n",
      "287     32   1230\n",
      "288    224   1227\n",
      "289    277   1226\n",
      "\n",
      "[290 rows x 2 columns]\n",
      "\n",
      "Column : Response\n",
      "   Value   Count\n",
      "0      0  334399\n",
      "1      1   46710\n",
      "\n"
     ]
    }
   ],
   "source": [
    "for column_name in data.columns: # Loop through the data columns\n",
    "    print(\"Column :\", column_name)\n",
    "    print(get_column_val_counts(data, column_name)) # Calling the function and printing it.\n",
    "    print()\n",
    "    \n",
    "# Click the bar below to see the output for all column's value counts"
   ]
  },
  {
   "cell_type": "markdown",
   "id": "853e67da",
   "metadata": {},
   "source": [
    "# EDA (Exploratory Data Analysis)"
   ]
  },
  {
   "cell_type": "markdown",
   "id": "16bcfaa4",
   "metadata": {},
   "source": [
    "### Checking for Class Imbalance"
   ]
  },
  {
   "cell_type": "markdown",
   "id": "be9cbe58",
   "metadata": {},
   "source": [
    "### Important notes:\n",
    "1. Gender (Male, Female)\n",
    "2. Vehicle Age (<1 Year, 1-2 Year, >2 Years)\n",
    "3. Vehicle Damage (Yes, No)\n",
    "4. Driving License (0, 1)\n",
    "5. Previously Insured (0, 1)\n",
    "6. Response (0, 1)\n",
    "> These columns are classes and categories\n",
    "\n",
    "**We can see these column in a bar graph**"
   ]
  },
  {
   "cell_type": "code",
   "execution_count": 70,
   "id": "9853aad6",
   "metadata": {
    "scrolled": false
   },
   "outputs": [
    {
     "data": {
      "image/png": "[encoded data removed]",
      "text/plain": [
       "<Figure size 1000x800 with 6 Axes>"
      ]
     },
     "metadata": {},
     "output_type": "display_data"
    }
   ],
   "source": [
    "fig, ((ax1, ax2, ax3), (ax4, ax5, ax6)) = plt.subplots(nrows=2, ncols=3, figsize=(10, 8))\n",
    "\n",
    "# Plot 1 (Gender)\n",
    "data[\"Gender\"].value_counts().plot(kind=\"bar\", color=[\"crimson\", \"skyblue\"], ax=ax1)\n",
    "ax1.set_title(\"Gender\")\n",
    "ax1.set_xlabel(\"Gender\")\n",
    "ax1.set_ylabel(\"Population\")\n",
    "\n",
    "# Plot 2 (Vehicle_Damage)\n",
    "data[\"Vehicle_Damage\"].value_counts().plot(kind=\"bar\", color=[\"crimson\", \"skyblue\"], ax=ax2)\n",
    "ax2.set_title(\"Vehicle_Damage\")\n",
    "ax2.set_ylabel(\"Population\")\n",
    "\n",
    "# Plot 3 (Previously_Insured)\n",
    "data[\"Previously_Insured\"].value_counts().plot(kind=\"bar\", color=[\"crimson\", \"skyblue\"], ax=ax3)\n",
    "ax3.set_title(\"Previously_Insured\")\n",
    "ax3.set_xlabel(\"1=Yes 0=No \")\n",
    "ax3.set_ylabel(\"Population\")\n",
    "\n",
    "# Plot 4 (Vehicle_Age)\n",
    "data[\"Vehicle_Age\"].value_counts().plot(kind=\"bar\", color=[\"crimson\", \"skyblue\"], ax=ax4)\n",
    "ax4.set_title(\"Vehicle_Age\")\n",
    "ax4.set_xlabel(\"No. of Years\")\n",
    "ax4.set_ylabel(\"Population\")\n",
    "\n",
    "# Plot 5 (Driving_Licence)\n",
    "data[\"Driving_License\"].value_counts().plot(kind=\"bar\", color=[\"skyblue\", \"crimson\"], ax=ax5)\n",
    "ax5.set_title(\"Driving_Licence\")\n",
    "ax5.set_xlabel(\"1=Yes 0=No\")\n",
    "ax5.set_ylabel(\"Population\")\n",
    "\n",
    "# Plot 6 (Response)\n",
    "data[\"Response\"].value_counts().plot(kind=\"bar\", color=[\"crimson\", \"skyblue\"], ax=ax6)\n",
    "ax6.set_title(\"Response\")\n",
    "ax6.set_xlabel(\"1=Yes 0=No\")\n",
    "ax6.set_ylabel(\"Population\")\n",
    "\n",
    "# Show the plot\n",
    "plt.tight_layout()\n",
    "plt.show()"
   ]
  },
  {
   "cell_type": "markdown",
   "id": "e8bb3f1e",
   "metadata": {},
   "source": [
    "**Note :** As we can see that in the `vehicle_age`, `driving_license` and `response` column there is a class imbalance. We can use some concepts like SMOTE etc.,"
   ]
  },
  {
   "cell_type": "markdown",
   "id": "81f88af9",
   "metadata": {},
   "source": [
    "### My function to plot Histograms"
   ]
  },
  {
   "cell_type": "code",
   "execution_count": 71,
   "id": "341ba4fa",
   "metadata": {},
   "outputs": [],
   "source": [
    "def plot_hist(column, x, y, title, figSize):\n",
    "    plt.figure(figsize = figSize)\n",
    "    plt.hist(data[column], color = \"skyblue\", edgecolor = \"black\")\n",
    "    plt.xlabel(f\"{x}\")\n",
    "    plt.ylabel(f\"{y}\")\n",
    "    plt.title(f\"Histogram for {title} Distribution\")\n",
    "    return plt.show()"
   ]
  },
  {
   "cell_type": "code",
   "execution_count": 72,
   "id": "825aaec5",
   "metadata": {},
   "outputs": [
    {
     "data": {
      "image/png": "[encoded data removed]",
      "text/plain": [
       "<Figure size 1000x600 with 1 Axes>"
      ]
     },
     "metadata": {},
     "output_type": "display_data"
    }
   ],
   "source": [
    "plot_hist(column=\"Age\", x=\"20-85\", y=\"Population\", title=\"Age\", figSize=(10,6))"
   ]
  },
  {
   "cell_type": "code",
   "execution_count": 73,
   "id": "1a644f92",
   "metadata": {},
   "outputs": [
    {
     "data": {
      "image/png": "[encoded data removed]",
      "text/plain": [
       "<Figure size 1000x600 with 1 Axes>"
      ]
     },
     "metadata": {},
     "output_type": "display_data"
    }
   ],
   "source": [
    "plot_hist(column=\"Region_Code\", x=\"1 to 53\",y=\"Population\", title=\"Region_Code\", figSize=(10,6))"
   ]
  },
  {
   "cell_type": "code",
   "execution_count": 74,
   "id": "564ebe36",
   "metadata": {},
   "outputs": [
    {
     "data": {
      "image/png": "[encoded data removed]",
      "text/plain": [
       "<Figure size 640x480 with 1 Axes>"
      ]
     },
     "metadata": {},
     "output_type": "display_data"
    }
   ],
   "source": [
    "sns.histplot(data[\"Annual_Premium\"], bins=50);"
   ]
  },
  {
   "cell_type": "code",
   "execution_count": 75,
   "id": "32d8066a",
   "metadata": {},
   "outputs": [
    {
     "data": {
      "image/png": "[encoded data removed]",
      "text/plain": [
       "<Figure size 640x480 with 1 Axes>"
      ]
     },
     "metadata": {},
     "output_type": "display_data"
    }
   ],
   "source": [
    "sns.histplot(data[\"Policy_Sales_Channel\"]);"
   ]
  },
  {
   "cell_type": "code",
   "execution_count": 76,
   "id": "c02dd56a",
   "metadata": {
    "scrolled": false
   },
   "outputs": [
    {
     "data": {
      "image/png": "[encoded data removed]",
      "text/plain": [
       "<Figure size 640x480 with 1 Axes>"
      ]
     },
     "metadata": {},
     "output_type": "display_data"
    }
   ],
   "source": [
    "sns.histplot(data[\"Vintage\"]);"
   ]
  },
  {
   "cell_type": "markdown",
   "id": "fb23c650",
   "metadata": {},
   "source": [
    "### Summary Statistics"
   ]
  },
  {
   "cell_type": "code",
   "execution_count": 77,
   "id": "7843d19e",
   "metadata": {
    "collapsed": true
   },
   "outputs": [
    {
     "name": "stdout",
     "output_type": "stream",
     "text": [
      "Summary statistics for column 'id':\n",
      "------------------------------------------------\n",
      "Mean: 190555.0\n",
      "Median: 190555.0\n",
      "Standard Deviation: 110016.83620776715\n",
      "Minimum Value: 1\n",
      "Maximum Value: 381109\n",
      "\n",
      "Summary statistics for column 'Age':\n",
      "------------------------------------------------\n",
      "Mean: 38.822583565331705\n",
      "Median: 36.0\n",
      "Standard Deviation: 15.511611018090681\n",
      "Minimum Value: 20\n",
      "Maximum Value: 85\n",
      "\n",
      "Summary statistics for column 'Driving_License':\n",
      "------------------------------------------------\n",
      "Mean: 0.9978693759528114\n",
      "Median: 1.0\n",
      "Standard Deviation: 0.04610954420800161\n",
      "Minimum Value: 0\n",
      "Maximum Value: 1\n",
      "\n",
      "Summary statistics for column 'Region_Code':\n",
      "------------------------------------------------\n",
      "Mean: 26.388807401557035\n",
      "Median: 28.0\n",
      "Standard Deviation: 13.229888025781639\n",
      "Minimum Value: 0\n",
      "Maximum Value: 52\n",
      "\n",
      "Summary statistics for column 'Previously_Insured':\n",
      "------------------------------------------------\n",
      "Mean: 0.4582101183650871\n",
      "Median: 0.0\n",
      "Standard Deviation: 0.49825119888769953\n",
      "Minimum Value: 0\n",
      "Maximum Value: 1\n",
      "\n",
      "Summary statistics for column 'Annual_Premium':\n",
      "------------------------------------------------\n",
      "Mean: 30564.389581458323\n",
      "Median: 31669.0\n",
      "Standard Deviation: 17213.155056967284\n",
      "Minimum Value: 2630\n",
      "Maximum Value: 540165\n",
      "\n",
      "Summary statistics for column 'Policy_Sales_Channel':\n",
      "------------------------------------------------\n",
      "Mean: 112.03429465061177\n",
      "Median: 133.0\n",
      "Standard Deviation: 54.203994774901744\n",
      "Minimum Value: 1\n",
      "Maximum Value: 163\n",
      "\n",
      "Summary statistics for column 'Vintage':\n",
      "------------------------------------------------\n",
      "Mean: 154.34739667654136\n",
      "Median: 154.0\n",
      "Standard Deviation: 83.67130362658581\n",
      "Minimum Value: 10\n",
      "Maximum Value: 299\n",
      "\n",
      "Summary statistics for column 'Response':\n",
      "------------------------------------------------\n",
      "Mean: 0.12256336113815208\n",
      "Median: 0.0\n",
      "Standard Deviation: 0.32793576478649195\n",
      "Minimum Value: 0\n",
      "Maximum Value: 1\n",
      "\n"
     ]
    }
   ],
   "source": [
    "for column_name in data.select_dtypes(include='number').columns:\n",
    "    # Calculate summary statistics for the column\n",
    "    mean_value = data[column_name].mean()\n",
    "    median_value = data[column_name].median()\n",
    "    std_deviation = data[column_name].std()\n",
    "    min_value = data[column_name].min()\n",
    "    max_value = data[column_name].max()\n",
    "    \n",
    "    # Print the summary statistics\n",
    "    print(f\"Summary statistics for column '{column_name}':\")\n",
    "    print(\"------------------------------------------------\")\n",
    "    print(f\"Mean: {mean_value}\")\n",
    "    print(f\"Median: {median_value}\")\n",
    "    print(f\"Standard Deviation: {std_deviation}\")\n",
    "    print(f\"Minimum Value: {min_value}\")\n",
    "    print(f\"Maximum Value: {max_value}\")\n",
    "    print() \n",
    "\n",
    "# Click below to view the outputs"
   ]
  },
  {
   "cell_type": "markdown",
   "id": "b2144ad8",
   "metadata": {},
   "source": [
    "### Class Imbalance Ratio for target column (Response)"
   ]
  },
  {
   "cell_type": "code",
   "execution_count": 78,
   "id": "1da131d8",
   "metadata": {},
   "outputs": [
    {
     "name": "stdout",
     "output_type": "stream",
     "text": [
      "Imbalance Ratio: 7.15904517233997\n"
     ]
    }
   ],
   "source": [
    "class_counts = data[\"Response\"].value_counts()\n",
    "imbalance_ratio = class_counts.max() / class_counts.min()\n",
    "print(\"Imbalance Ratio:\", imbalance_ratio)"
   ]
  },
  {
   "cell_type": "markdown",
   "id": "960ead77",
   "metadata": {},
   "source": [
    "### Checking for Skewness"
   ]
  },
  {
   "cell_type": "code",
   "execution_count": 79,
   "id": "168f9223",
   "metadata": {},
   "outputs": [],
   "source": [
    "skewness = {\"Age\" : data[\"Age\"].skew(),\n",
    "            \"Driving_License\" : data[\"Driving_License\"].skew(),\n",
    "            \"Region_Code\" : data[\"Region_Code\"].skew(),\n",
    "            \"Annual_Premium\" : data[\"Annual_Premium\"].skew(),\n",
    "            \"Policy_Sales_Channel\" : data[\"Policy_Sales_Channel\"].skew(),\n",
    "            \"Vintage\" : data[\"Vintage\"].skew(),\n",
    "            \"Response\" : data[\"Response\"].skew()}"
   ]
  },
  {
   "cell_type": "code",
   "execution_count": 80,
   "id": "01307ec5",
   "metadata": {},
   "outputs": [
    {
     "data": {
      "text/html": [
       "<div>\n",
       "<style scoped>\n",
       "    .dataframe tbody tr th:only-of-type {\n",
       "        vertical-align: middle;\n",
       "    }\n",
       "\n",
       "    .dataframe tbody tr th {\n",
       "        vertical-align: top;\n",
       "    }\n",
       "\n",
       "    .dataframe thead th {\n",
       "        text-align: right;\n",
       "    }\n",
       "</style>\n",
       "<table border=\"1\" class=\"dataframe\">\n",
       "  <thead>\n",
       "    <tr style=\"text-align: right;\">\n",
       "      <th></th>\n",
       "      <th>Age</th>\n",
       "      <th>Driving_License</th>\n",
       "      <th>Region_Code</th>\n",
       "      <th>Annual_Premium</th>\n",
       "      <th>Policy_Sales_Channel</th>\n",
       "      <th>Vintage</th>\n",
       "      <th>Response</th>\n",
       "    </tr>\n",
       "  </thead>\n",
       "  <tbody>\n",
       "    <tr>\n",
       "      <th>1</th>\n",
       "      <td>0.672539</td>\n",
       "      <td>-21.595182</td>\n",
       "      <td>-0.115266</td>\n",
       "      <td>1.766087</td>\n",
       "      <td>-0.900008</td>\n",
       "      <td>0.00303</td>\n",
       "      <td>2.301906</td>\n",
       "    </tr>\n",
       "  </tbody>\n",
       "</table>\n",
       "</div>"
      ],
      "text/plain": [
       "        Age  Driving_License  Region_Code  Annual_Premium  \\\n",
       "1  0.672539       -21.595182    -0.115266        1.766087   \n",
       "\n",
       "   Policy_Sales_Channel  Vintage  Response  \n",
       "1             -0.900008  0.00303  2.301906  "
      ]
     },
     "execution_count": 80,
     "metadata": {},
     "output_type": "execute_result"
    }
   ],
   "source": [
    "skew = pd.DataFrame(skewness, index = [1])\n",
    "skew"
   ]
  },
  {
   "cell_type": "markdown",
   "id": "bc446f30",
   "metadata": {},
   "source": [
    "The following columns are Right Skewed\n",
    "1. Age\n",
    "2. Annual_Premium\n",
    "3. Response\n",
    "\n",
    "The following columns are Left Skewed\n",
    "1. Driving_License\n",
    "2. Region_Code\n",
    "3. Policy_Sales_Channel\n",
    "\n",
    "The objective is try to fit all the feature and also target columns in a `Gaussian Distribution`"
   ]
  },
  {
   "cell_type": "markdown",
   "id": "bd928ccc",
   "metadata": {},
   "source": [
    "**Before that we will do some more data analysis so that we are confident before data preprocessing** "
   ]
  },
  {
   "cell_type": "markdown",
   "id": "76bdf7de",
   "metadata": {},
   "source": [
    "**Find Unique Values**"
   ]
  },
  {
   "cell_type": "code",
   "execution_count": 81,
   "id": "75edae75",
   "metadata": {},
   "outputs": [
    {
     "name": "stdout",
     "output_type": "stream",
     "text": [
      "Column 'id':\n",
      "[     1      2      3 ... 381107 381108 381109]\n",
      "Number of unique values: 381109\n",
      "\n",
      "Column 'Gender':\n",
      "['Male' 'Female']\n",
      "Number of unique values: 2\n",
      "\n",
      "Column 'Age':\n",
      "[44 76 47 21 29 24 23 56 32 41 71 37 25 42 60 65 49 34 51 26 57 79 48 45\n",
      " 72 30 54 27 38 22 78 20 39 62 58 59 63 50 67 77 28 69 52 31 33 43 36 53\n",
      " 70 46 55 40 61 75 64 35 66 68 74 73 84 83 81 80 82 85]\n",
      "Number of unique values: 66\n",
      "\n",
      "Column 'Driving_License':\n",
      "[1 0]\n",
      "Number of unique values: 2\n",
      "\n",
      "Column 'Region_Code':\n",
      "[28  3 11 41 33  6 35 50 15 45  8 36 30 26 16 47 48 19 39 23 37  5 17  2\n",
      "  7 29 46 27 25 13 18 20 49 22 44  0  9 31 12 34 21 10 14 38 24 40 43 32\n",
      "  4 51 42  1 52]\n",
      "Number of unique values: 53\n",
      "\n",
      "Column 'Previously_Insured':\n",
      "[0 1]\n",
      "Number of unique values: 2\n",
      "\n",
      "Column 'Vehicle_Age':\n",
      "['> 2 Years' '1-2 Year' '< 1 Year']\n",
      "Number of unique values: 3\n",
      "\n",
      "Column 'Vehicle_Damage':\n",
      "['Yes' 'No']\n",
      "Number of unique values: 2\n",
      "\n",
      "Column 'Annual_Premium':\n",
      "[ 40454  33536  38294 ...  20706 101664  69845]\n",
      "Number of unique values: 48838\n",
      "\n",
      "Column 'Policy_Sales_Channel':\n",
      "[ 26 152 160 124  14  13  30 156 163 157 122  19  22  15 154  16  52 155\n",
      "  11 151 125  25  61   1  86  31 150  23  60  21 121   3 139  12  29  55\n",
      "   7  47 127 153  78 158  89  32   8  10 120  65   4  42  83 136  24  18\n",
      "  56  48 106  54  93 116  91  45   9 145 147  44 109  37 140 107 128 131\n",
      " 114 118 159 119 105 135  62 138 129  88  92 111 113  73  36  28  35  59\n",
      "  53 148 133 108  64  39  94 132  46  81 103  90  51  27 146  63  96  40\n",
      "  66 100  95 123  98  75  69 130 134  49  97  38  17 110  80  71 117  58\n",
      "  20  76 104  87  84 137 126  68  67 101 115  57  82  79 112  99  70   2\n",
      "  34  33  74 102 149  43   6  50 144 143  41]\n",
      "Number of unique values: 155\n",
      "\n",
      "Column 'Vintage':\n",
      "[217 183  27 203  39 176 249  72  28  80  46 289 221  15  58 147 256 299\n",
      " 158 102 116 177 232  60 180  49  57 223 136 222 149 169  88 253 107 264\n",
      " 233  45 184 251 153 186  71  34  83  12 246 141 216 130 282  73 171 283\n",
      " 295 165  30 218  22  36  79  81 100  63 242 277  61 111 167  74 235 131\n",
      " 243 248 114 281  62 189 139 138 209 254 291  68  92  52  78 156 247 275\n",
      "  77 181 229 166  16  23  31 293 219  50 155  66 260  19 258 117 193 204\n",
      " 212 144 234 206 228 125  29  18  84 230  54 123 101  86  13 237  85  98\n",
      "  67 128  95  89  99 208 134 135 268 284 119 226 105 142 207 272 263  64\n",
      "  40 245 163  24 265 202 259  91 106 190 162  33 194 287 292  69 239 132\n",
      " 255 152 121 150 143 198 103 127 285 214 151 199  56  59 215 104 238 120\n",
      "  21  32 270 211 200 197  11 213  93 113 178  10 290  94 231 296  47 122\n",
      " 271 278 276  96 240 172 257 224 173 220 185  90  51 205  70 160 137 168\n",
      "  87 118 288 126 241  82 227 115 164 236 286 244 108 274 201  97  25 174\n",
      " 182 154  48  20  53  17 261  41 266  35 140 269 146 145  65 298 133 195\n",
      "  55 188  75  38  43 110  37 129 170 109 267 279 112 280  76 191  26 161\n",
      " 179 175 252  42 124 187 148 294  44 157 192 262 159 210 250  14 273 297\n",
      " 225 196]\n",
      "Number of unique values: 290\n",
      "\n",
      "Column 'Response':\n",
      "[1 0]\n",
      "Number of unique values: 2\n",
      "\n"
     ]
    }
   ],
   "source": [
    "for column in data.columns:\n",
    "    unique_values = data[column].unique()\n",
    "    num_unique_values = len(unique_values)\n",
    "    \n",
    "    # Print column name\n",
    "    print(f\"Column '{column}':\")\n",
    "    \n",
    "    # Print unique values\n",
    "    print(unique_values)\n",
    "    \n",
    "    # Print number of unique values\n",
    "    print(\"Number of unique values:\", num_unique_values)\n",
    "    print()\n",
    "# Click below to view all the column's unique values"
   ]
  },
  {
   "cell_type": "markdown",
   "id": "b81f538b",
   "metadata": {},
   "source": [
    "**Remove Duplicate Records if Any**"
   ]
  },
  {
   "cell_type": "code",
   "execution_count": 82,
   "id": "42ba2754",
   "metadata": {},
   "outputs": [
    {
     "name": "stdout",
     "output_type": "stream",
     "text": [
      "            id  Gender  Age  Driving_License  Region_Code  Previously_Insured  \\\n",
      "0            1    Male   44                1           28                   0   \n",
      "1            2    Male   76                1            3                   0   \n",
      "2            3    Male   47                1           28                   0   \n",
      "3            4    Male   21                1           11                   1   \n",
      "4            5  Female   29                1           41                   1   \n",
      "...        ...     ...  ...              ...          ...                 ...   \n",
      "381104  381105    Male   74                1           26                   1   \n",
      "381105  381106    Male   30                1           37                   1   \n",
      "381106  381107    Male   21                1           30                   1   \n",
      "381107  381108  Female   68                1           14                   0   \n",
      "381108  381109    Male   46                1           29                   0   \n",
      "\n",
      "       Vehicle_Age Vehicle_Damage  Annual_Premium  Policy_Sales_Channel  \\\n",
      "0        > 2 Years            Yes           40454                    26   \n",
      "1         1-2 Year             No           33536                    26   \n",
      "2        > 2 Years            Yes           38294                    26   \n",
      "3         < 1 Year             No           28619                   152   \n",
      "4         < 1 Year             No           27496                   152   \n",
      "...            ...            ...             ...                   ...   \n",
      "381104    1-2 Year             No           30170                    26   \n",
      "381105    < 1 Year             No           40016                   152   \n",
      "381106    < 1 Year             No           35118                   160   \n",
      "381107   > 2 Years            Yes           44617                   124   \n",
      "381108    1-2 Year             No           41777                    26   \n",
      "\n",
      "        Vintage  Response  \n",
      "0           217         1  \n",
      "1           183         0  \n",
      "2            27         1  \n",
      "3           203         0  \n",
      "4            39         0  \n",
      "...         ...       ...  \n",
      "381104       88         0  \n",
      "381105      131         0  \n",
      "381106      161         0  \n",
      "381107       74         0  \n",
      "381108      237         0  \n",
      "\n",
      "[381109 rows x 12 columns]\n"
     ]
    }
   ],
   "source": [
    "# Remove duplicate records based on all columns\n",
    "data_without_duplicates = data.drop_duplicates()\n",
    "\n",
    "# Print the DataFrame without duplicates\n",
    "print(data_without_duplicates)\n",
    "\n",
    "# Click below to view the output"
   ]
  },
  {
   "cell_type": "code",
   "execution_count": 83,
   "id": "0db48788",
   "metadata": {},
   "outputs": [
    {
     "data": {
      "text/plain": [
       "(381109, 12)"
      ]
     },
     "execution_count": 83,
     "metadata": {},
     "output_type": "execute_result"
    }
   ],
   "source": [
    "data.shape"
   ]
  },
  {
   "cell_type": "code",
   "execution_count": 84,
   "id": "a4f09e22",
   "metadata": {},
   "outputs": [
    {
     "data": {
      "text/plain": [
       "(381109, 12)"
      ]
     },
     "execution_count": 84,
     "metadata": {},
     "output_type": "execute_result"
    }
   ],
   "source": [
    "data_without_duplicates.shape"
   ]
  },
  {
   "cell_type": "markdown",
   "id": "54275879",
   "metadata": {},
   "source": [
    "**Note : There are no duplicate values**\n",
    "\n",
    "### Box Plots to check for `Outliers`"
   ]
  },
  {
   "cell_type": "code",
   "execution_count": 85,
   "id": "cff9d4e1",
   "metadata": {
    "scrolled": true
   },
   "outputs": [
    {
     "data": {
      "text/plain": [
       "id                      0\n",
       "Gender                  0\n",
       "Age                     0\n",
       "Driving_License         0\n",
       "Region_Code             0\n",
       "Previously_Insured      0\n",
       "Vehicle_Age             0\n",
       "Vehicle_Damage          0\n",
       "Annual_Premium          0\n",
       "Policy_Sales_Channel    0\n",
       "Vintage                 0\n",
       "Response                0\n",
       "dtype: int64"
      ]
     },
     "execution_count": 85,
     "metadata": {},
     "output_type": "execute_result"
    }
   ],
   "source": [
    "data.isnull().sum()"
   ]
  },
  {
   "cell_type": "code",
   "execution_count": 86,
   "id": "748f544a",
   "metadata": {},
   "outputs": [],
   "source": [
    "# Function for box plot where we can give our own parameters on data and column names\n",
    "def plot_boxplot(df, column_name):\n",
    "    \"\"\"\n",
    "    Plot a box plot for the specified column in the DataFrame using Seaborn.\n",
    "\n",
    "    Parameters:\n",
    "        df (DataFrame): The DataFrame containing the data.\n",
    "        column_name (str): The name of the column for which to plot the box plot.\n",
    "    \"\"\"\n",
    "    plt.figure(figsize=(5, 4))  # Set the size of the plot\n",
    "    \n",
    "    # Create a box plot for the specified column\n",
    "    sns.boxplot(x=df[column_name])\n",
    "    \n",
    "    # Add labels and title\n",
    "    plt.xlabel(f'{column_name}')\n",
    "    plt.ylabel('Values')\n",
    "    plt.title(f'Box plot of {column_name}')\n",
    "    \n",
    "    # Show the plot\n",
    "    plt.show()"
   ]
  },
  {
   "cell_type": "code",
   "execution_count": 87,
   "id": "e14708a1",
   "metadata": {},
   "outputs": [
    {
     "data": {
      "image/png": "[encoded data removed]",
      "text/plain": [
       "<Figure size 500x400 with 1 Axes>"
      ]
     },
     "metadata": {},
     "output_type": "display_data"
    }
   ],
   "source": [
    "plot_boxplot(df=data, column_name='Age')"
   ]
  },
  {
   "cell_type": "code",
   "execution_count": 88,
   "id": "f64487bc",
   "metadata": {},
   "outputs": [
    {
     "data": {
      "image/png": "[encoded data removed]",
      "text/plain": [
       "<Figure size 500x400 with 1 Axes>"
      ]
     },
     "metadata": {},
     "output_type": "display_data"
    }
   ],
   "source": [
    "plot_boxplot(df=data, column_name='Region_Code')"
   ]
  },
  {
   "cell_type": "code",
   "execution_count": 89,
   "id": "65e29e13",
   "metadata": {},
   "outputs": [
    {
     "data": {
      "image/png": "[encoded data removed]",
      "text/plain": [
       "<Figure size 500x400 with 1 Axes>"
      ]
     },
     "metadata": {},
     "output_type": "display_data"
    }
   ],
   "source": [
    "plot_boxplot(df=data, column_name='Annual_Premium')"
   ]
  },
  {
   "cell_type": "code",
   "execution_count": 90,
   "id": "1b452d60",
   "metadata": {},
   "outputs": [
    {
     "data": {
      "image/png": "[encoded data removed]",
      "text/plain": [
       "<Figure size 500x400 with 1 Axes>"
      ]
     },
     "metadata": {},
     "output_type": "display_data"
    }
   ],
   "source": [
    "plot_boxplot(df=data, column_name='Policy_Sales_Channel')"
   ]
  },
  {
   "cell_type": "code",
   "execution_count": 91,
   "id": "39077c75",
   "metadata": {},
   "outputs": [
    {
     "data": {
      "image/png": "[encoded data removed]",
      "text/plain": [
       "<Figure size 500x400 with 1 Axes>"
      ]
     },
     "metadata": {},
     "output_type": "display_data"
    }
   ],
   "source": [
    "plot_boxplot(df=data, column_name='Vintage')"
   ]
  },
  {
   "cell_type": "code",
   "execution_count": 92,
   "id": "36166747",
   "metadata": {},
   "outputs": [
    {
     "data": {
      "text/plain": [
       "{'Age',\n",
       " 'Annual_Premium',\n",
       " 'Driving_License',\n",
       " 'Gender',\n",
       " 'Policy_Sales_Channel',\n",
       " 'Previously_Insured',\n",
       " 'Region_Code',\n",
       " 'Response',\n",
       " 'Vehicle_Age',\n",
       " 'Vehicle_Damage',\n",
       " 'Vintage ',\n",
       " 'id'}"
      ]
     },
     "execution_count": 92,
     "metadata": {},
     "output_type": "execute_result"
    }
   ],
   "source": [
    "data_column_names"
   ]
  },
  {
   "cell_type": "markdown",
   "id": "f4de46e9",
   "metadata": {},
   "source": [
    "## Data Analysis Summary :\n",
    "> On the above performed data analysis and EDA we have come to these following conclusion:\n",
    "   1. We do not have any missing values \n",
    "   2. We don't have any unique values \n",
    "   3. We have skewed values on some features, we must handle this issue in the data preprocessing\n",
    "   4. We have class imbalance in some feature variables and large imbalance in Target variable\n",
    "   5. We have categorical Features that needs to be encoded\n",
    "   6. We have class feature variable and that needs to be replaced with numerical values\n",
    "   7. ID column can be dropped\n",
    "   8. Standardize or normalize numerical features to a common scale if necessary.\n",
    "> We will do some more data analysis after finishing up with the preprocessing and cross check before it goes for modelling"
   ]
  },
  {
   "cell_type": "markdown",
   "id": "2e2f6523",
   "metadata": {},
   "source": [
    "# Part 2 `Data Preprocessing`"
   ]
  },
  {
   "cell_type": "markdown",
   "id": "3d0774b7",
   "metadata": {},
   "source": [
    "**We can remove the `id` column as it is not needed**"
   ]
  },
  {
   "cell_type": "code",
   "execution_count": 93,
   "id": "68fe9b86",
   "metadata": {},
   "outputs": [],
   "source": [
    "data.drop(\"id\", axis=1, inplace=True)"
   ]
  },
  {
   "cell_type": "code",
   "execution_count": 94,
   "id": "6632ca9f",
   "metadata": {},
   "outputs": [
    {
     "data": {
      "text/html": [
       "<div>\n",
       "<style scoped>\n",
       "    .dataframe tbody tr th:only-of-type {\n",
       "        vertical-align: middle;\n",
       "    }\n",
       "\n",
       "    .dataframe tbody tr th {\n",
       "        vertical-align: top;\n",
       "    }\n",
       "\n",
       "    .dataframe thead th {\n",
       "        text-align: right;\n",
       "    }\n",
       "</style>\n",
       "<table border=\"1\" class=\"dataframe\">\n",
       "  <thead>\n",
       "    <tr style=\"text-align: right;\">\n",
       "      <th></th>\n",
       "      <th>0</th>\n",
       "      <th>1</th>\n",
       "      <th>2</th>\n",
       "      <th>3</th>\n",
       "      <th>4</th>\n",
       "    </tr>\n",
       "  </thead>\n",
       "  <tbody>\n",
       "    <tr>\n",
       "      <th>Gender</th>\n",
       "      <td>Male</td>\n",
       "      <td>Male</td>\n",
       "      <td>Male</td>\n",
       "      <td>Male</td>\n",
       "      <td>Female</td>\n",
       "    </tr>\n",
       "    <tr>\n",
       "      <th>Age</th>\n",
       "      <td>44</td>\n",
       "      <td>76</td>\n",
       "      <td>47</td>\n",
       "      <td>21</td>\n",
       "      <td>29</td>\n",
       "    </tr>\n",
       "    <tr>\n",
       "      <th>Driving_License</th>\n",
       "      <td>1</td>\n",
       "      <td>1</td>\n",
       "      <td>1</td>\n",
       "      <td>1</td>\n",
       "      <td>1</td>\n",
       "    </tr>\n",
       "    <tr>\n",
       "      <th>Region_Code</th>\n",
       "      <td>28</td>\n",
       "      <td>3</td>\n",
       "      <td>28</td>\n",
       "      <td>11</td>\n",
       "      <td>41</td>\n",
       "    </tr>\n",
       "    <tr>\n",
       "      <th>Previously_Insured</th>\n",
       "      <td>0</td>\n",
       "      <td>0</td>\n",
       "      <td>0</td>\n",
       "      <td>1</td>\n",
       "      <td>1</td>\n",
       "    </tr>\n",
       "    <tr>\n",
       "      <th>Vehicle_Age</th>\n",
       "      <td>&gt; 2 Years</td>\n",
       "      <td>1-2 Year</td>\n",
       "      <td>&gt; 2 Years</td>\n",
       "      <td>&lt; 1 Year</td>\n",
       "      <td>&lt; 1 Year</td>\n",
       "    </tr>\n",
       "    <tr>\n",
       "      <th>Vehicle_Damage</th>\n",
       "      <td>Yes</td>\n",
       "      <td>No</td>\n",
       "      <td>Yes</td>\n",
       "      <td>No</td>\n",
       "      <td>No</td>\n",
       "    </tr>\n",
       "    <tr>\n",
       "      <th>Annual_Premium</th>\n",
       "      <td>40454</td>\n",
       "      <td>33536</td>\n",
       "      <td>38294</td>\n",
       "      <td>28619</td>\n",
       "      <td>27496</td>\n",
       "    </tr>\n",
       "    <tr>\n",
       "      <th>Policy_Sales_Channel</th>\n",
       "      <td>26</td>\n",
       "      <td>26</td>\n",
       "      <td>26</td>\n",
       "      <td>152</td>\n",
       "      <td>152</td>\n",
       "    </tr>\n",
       "    <tr>\n",
       "      <th>Vintage</th>\n",
       "      <td>217</td>\n",
       "      <td>183</td>\n",
       "      <td>27</td>\n",
       "      <td>203</td>\n",
       "      <td>39</td>\n",
       "    </tr>\n",
       "    <tr>\n",
       "      <th>Response</th>\n",
       "      <td>1</td>\n",
       "      <td>0</td>\n",
       "      <td>1</td>\n",
       "      <td>0</td>\n",
       "      <td>0</td>\n",
       "    </tr>\n",
       "  </tbody>\n",
       "</table>\n",
       "</div>"
      ],
      "text/plain": [
       "                              0         1          2         3         4\n",
       "Gender                     Male      Male       Male      Male    Female\n",
       "Age                          44        76         47        21        29\n",
       "Driving_License               1         1          1         1         1\n",
       "Region_Code                  28         3         28        11        41\n",
       "Previously_Insured            0         0          0         1         1\n",
       "Vehicle_Age           > 2 Years  1-2 Year  > 2 Years  < 1 Year  < 1 Year\n",
       "Vehicle_Damage              Yes        No        Yes        No        No\n",
       "Annual_Premium            40454     33536      38294     28619     27496\n",
       "Policy_Sales_Channel         26        26         26       152       152\n",
       "Vintage                     217       183         27       203        39\n",
       "Response                      1         0          1         0         0"
      ]
     },
     "execution_count": 94,
     "metadata": {},
     "output_type": "execute_result"
    }
   ],
   "source": [
    "data.head().T"
   ]
  },
  {
   "cell_type": "code",
   "execution_count": 95,
   "id": "d63713d1",
   "metadata": {
    "scrolled": true
   },
   "outputs": [
    {
     "data": {
      "text/plain": [
       "(381109, 11)"
      ]
     },
     "execution_count": 95,
     "metadata": {},
     "output_type": "execute_result"
    }
   ],
   "source": [
    "data.shape"
   ]
  },
  {
   "cell_type": "markdown",
   "id": "f1ab37b5",
   "metadata": {},
   "source": [
    "# 1. Removing Outliers\n",
    "The following columns may have outliers because of their distribution characterstics\n",
    "1. Age\n",
    "2. Region_Code\n",
    "3. Annual_Premium\n",
    "4. Policy_Sales_Channel\n",
    "5. Vintage"
   ]
  },
  {
   "cell_type": "markdown",
   "id": "d054ea33",
   "metadata": {},
   "source": [
    "##  1(a).  Z - Score method \n",
    "**Set-up the upper and lower limits**"
   ]
  },
  {
   "cell_type": "code",
   "execution_count": 96,
   "id": "dc761d27",
   "metadata": {},
   "outputs": [],
   "source": [
    "# Limit for Age\n",
    "upper_limit_age = data[\"Age\"].mean() + 3 * data[\"Age\"].std()\n",
    "lower_limit_age = data[\"Age\"].mean() - 3 * data[\"Age\"].std()\n",
    "\n",
    "# Limit for Region_Code\n",
    "upper_limit_region = data[\"Region_Code\"].mean() + 3 * data[\"Region_Code\"].std()\n",
    "lower_limit_region = data[\"Region_Code\"].mean() - 3 * data[\"Region_Code\"].std()\n",
    "\n",
    "# Limit for Annual_Premium\n",
    "upper_limit_annual = data[\"Annual_Premium\"].mean() + 3 * data[\"Annual_Premium\"].std()\n",
    "lower_limit_annual = data[\"Annual_Premium\"].mean() - 3 * data[\"Annual_Premium\"].std()\n",
    "\n",
    "# Limit for Policy_Sales_Channel\n",
    "upper_limit_policy = data[\"Policy_Sales_Channel\"].mean() + 3 * data[\"Policy_Sales_Channel\"].std()\n",
    "lower_limit_policy = data[\"Policy_Sales_Channel\"].mean() - 3 * data[\"Policy_Sales_Channel\"].std()\n",
    "\n",
    "# Limit for Vintage\n",
    "upper_limit_vintage = data[\"Vintage\"].mean() + 3 * data[\"Vintage\"].std()\n",
    "lower_limit_vintage = data[\"Vintage\"].mean() - 3 * data[\"Vintage\"].std()"
   ]
  },
  {
   "cell_type": "code",
   "execution_count": 97,
   "id": "52e29574",
   "metadata": {},
   "outputs": [
    {
     "name": "stdout",
     "output_type": "stream",
     "text": [
      "upper_limit_age = 85.35741661960375\n",
      "lower_limit_age = -7.712249488940337\n"
     ]
    }
   ],
   "source": [
    "print(f\"upper_limit_age = {upper_limit_age}\\nlower_limit_age = {lower_limit_age}\")"
   ]
  },
  {
   "cell_type": "code",
   "execution_count": 98,
   "id": "f0176900",
   "metadata": {},
   "outputs": [
    {
     "name": "stdout",
     "output_type": "stream",
     "text": [
      "upper_limit_region = 66.07847147890195\n",
      "lower_limit_age = -13.30085667578788\n"
     ]
    }
   ],
   "source": [
    "print(f\"upper_limit_region = {upper_limit_region}\\nlower_limit_age = {lower_limit_region}\")"
   ]
  },
  {
   "cell_type": "code",
   "execution_count": 99,
   "id": "ba246aca",
   "metadata": {},
   "outputs": [
    {
     "name": "stdout",
     "output_type": "stream",
     "text": [
      "upper_limit_annual = 82203.85475236017\n",
      "lower_limit_age = -21075.075589443528\n"
     ]
    }
   ],
   "source": [
    "print(f\"upper_limit_annual = {upper_limit_annual}\\nlower_limit_age = {lower_limit_annual}\")"
   ]
  },
  {
   "cell_type": "code",
   "execution_count": 100,
   "id": "81a881b8",
   "metadata": {},
   "outputs": [
    {
     "name": "stdout",
     "output_type": "stream",
     "text": [
      "upper_limit_policy = 274.64627897531705\n",
      "lower_limit_policy = -50.57768967409348\n"
     ]
    }
   ],
   "source": [
    "print(f\"upper_limit_policy = {upper_limit_policy}\\nlower_limit_policy = {lower_limit_policy}\")"
   ]
  },
  {
   "cell_type": "code",
   "execution_count": 101,
   "id": "32a076dc",
   "metadata": {},
   "outputs": [
    {
     "name": "stdout",
     "output_type": "stream",
     "text": [
      "upper_limit_vintage = 405.3613075562988\n",
      "lower_limit_vintage = -96.66651420321605\n"
     ]
    }
   ],
   "source": [
    "print(f\"upper_limit_vintage = {upper_limit_vintage}\\nlower_limit_vintage = {lower_limit_vintage}\")"
   ]
  },
  {
   "cell_type": "markdown",
   "id": "8f3a4c1a",
   "metadata": {},
   "source": [
    "**Find the Outliers**"
   ]
  },
  {
   "cell_type": "code",
   "execution_count": 102,
   "id": "f2ad194a",
   "metadata": {},
   "outputs": [
    {
     "data": {
      "text/html": [
       "<div>\n",
       "<style scoped>\n",
       "    .dataframe tbody tr th:only-of-type {\n",
       "        vertical-align: middle;\n",
       "    }\n",
       "\n",
       "    .dataframe tbody tr th {\n",
       "        vertical-align: top;\n",
       "    }\n",
       "\n",
       "    .dataframe thead th {\n",
       "        text-align: right;\n",
       "    }\n",
       "</style>\n",
       "<table border=\"1\" class=\"dataframe\">\n",
       "  <thead>\n",
       "    <tr style=\"text-align: right;\">\n",
       "      <th></th>\n",
       "      <th>Gender</th>\n",
       "      <th>Age</th>\n",
       "      <th>Driving_License</th>\n",
       "      <th>Region_Code</th>\n",
       "      <th>Previously_Insured</th>\n",
       "      <th>Vehicle_Age</th>\n",
       "      <th>Vehicle_Damage</th>\n",
       "      <th>Annual_Premium</th>\n",
       "      <th>Policy_Sales_Channel</th>\n",
       "      <th>Vintage</th>\n",
       "      <th>Response</th>\n",
       "    </tr>\n",
       "  </thead>\n",
       "  <tbody>\n",
       "  </tbody>\n",
       "</table>\n",
       "</div>"
      ],
      "text/plain": [
       "Empty DataFrame\n",
       "Columns: [Gender, Age, Driving_License, Region_Code, Previously_Insured, Vehicle_Age, Vehicle_Damage, Annual_Premium, Policy_Sales_Channel, Vintage, Response]\n",
       "Index: []"
      ]
     },
     "execution_count": 102,
     "metadata": {},
     "output_type": "execute_result"
    }
   ],
   "source": [
    "data.loc[(data[\"Age\"] > upper_limit_age) | (data[\"Age\"] < lower_limit_age)]"
   ]
  },
  {
   "cell_type": "code",
   "execution_count": 103,
   "id": "dd62f7ed",
   "metadata": {},
   "outputs": [
    {
     "data": {
      "text/html": [
       "<div>\n",
       "<style scoped>\n",
       "    .dataframe tbody tr th:only-of-type {\n",
       "        vertical-align: middle;\n",
       "    }\n",
       "\n",
       "    .dataframe tbody tr th {\n",
       "        vertical-align: top;\n",
       "    }\n",
       "\n",
       "    .dataframe thead th {\n",
       "        text-align: right;\n",
       "    }\n",
       "</style>\n",
       "<table border=\"1\" class=\"dataframe\">\n",
       "  <thead>\n",
       "    <tr style=\"text-align: right;\">\n",
       "      <th></th>\n",
       "      <th>Gender</th>\n",
       "      <th>Age</th>\n",
       "      <th>Driving_License</th>\n",
       "      <th>Region_Code</th>\n",
       "      <th>Previously_Insured</th>\n",
       "      <th>Vehicle_Age</th>\n",
       "      <th>Vehicle_Damage</th>\n",
       "      <th>Annual_Premium</th>\n",
       "      <th>Policy_Sales_Channel</th>\n",
       "      <th>Vintage</th>\n",
       "      <th>Response</th>\n",
       "    </tr>\n",
       "  </thead>\n",
       "  <tbody>\n",
       "  </tbody>\n",
       "</table>\n",
       "</div>"
      ],
      "text/plain": [
       "Empty DataFrame\n",
       "Columns: [Gender, Age, Driving_License, Region_Code, Previously_Insured, Vehicle_Age, Vehicle_Damage, Annual_Premium, Policy_Sales_Channel, Vintage, Response]\n",
       "Index: []"
      ]
     },
     "execution_count": 103,
     "metadata": {},
     "output_type": "execute_result"
    }
   ],
   "source": [
    "data.loc[(data[\"Region_Code\"] > upper_limit_region) | (data[\"Region_Code\"] < lower_limit_region)]"
   ]
  },
  {
   "cell_type": "code",
   "execution_count": 104,
   "id": "2a988569",
   "metadata": {},
   "outputs": [
    {
     "data": {
      "text/html": [
       "<div>\n",
       "<style scoped>\n",
       "    .dataframe tbody tr th:only-of-type {\n",
       "        vertical-align: middle;\n",
       "    }\n",
       "\n",
       "    .dataframe tbody tr th {\n",
       "        vertical-align: top;\n",
       "    }\n",
       "\n",
       "    .dataframe thead th {\n",
       "        text-align: right;\n",
       "    }\n",
       "</style>\n",
       "<table border=\"1\" class=\"dataframe\">\n",
       "  <thead>\n",
       "    <tr style=\"text-align: right;\">\n",
       "      <th></th>\n",
       "      <th>Gender</th>\n",
       "      <th>Age</th>\n",
       "      <th>Driving_License</th>\n",
       "      <th>Region_Code</th>\n",
       "      <th>Previously_Insured</th>\n",
       "      <th>Vehicle_Age</th>\n",
       "      <th>Vehicle_Damage</th>\n",
       "      <th>Annual_Premium</th>\n",
       "      <th>Policy_Sales_Channel</th>\n",
       "      <th>Vintage</th>\n",
       "      <th>Response</th>\n",
       "    </tr>\n",
       "  </thead>\n",
       "  <tbody>\n",
       "    <tr>\n",
       "      <th>167</th>\n",
       "      <td>Female</td>\n",
       "      <td>26</td>\n",
       "      <td>1</td>\n",
       "      <td>8</td>\n",
       "      <td>0</td>\n",
       "      <td>&lt; 1 Year</td>\n",
       "      <td>Yes</td>\n",
       "      <td>89282</td>\n",
       "      <td>152</td>\n",
       "      <td>101</td>\n",
       "      <td>0</td>\n",
       "    </tr>\n",
       "    <tr>\n",
       "      <th>176</th>\n",
       "      <td>Male</td>\n",
       "      <td>25</td>\n",
       "      <td>1</td>\n",
       "      <td>28</td>\n",
       "      <td>1</td>\n",
       "      <td>&lt; 1 Year</td>\n",
       "      <td>No</td>\n",
       "      <td>101021</td>\n",
       "      <td>152</td>\n",
       "      <td>49</td>\n",
       "      <td>0</td>\n",
       "    </tr>\n",
       "    <tr>\n",
       "      <th>315</th>\n",
       "      <td>Male</td>\n",
       "      <td>20</td>\n",
       "      <td>1</td>\n",
       "      <td>12</td>\n",
       "      <td>0</td>\n",
       "      <td>&lt; 1 Year</td>\n",
       "      <td>Yes</td>\n",
       "      <td>82705</td>\n",
       "      <td>160</td>\n",
       "      <td>49</td>\n",
       "      <td>0</td>\n",
       "    </tr>\n",
       "    <tr>\n",
       "      <th>401</th>\n",
       "      <td>Male</td>\n",
       "      <td>65</td>\n",
       "      <td>1</td>\n",
       "      <td>28</td>\n",
       "      <td>0</td>\n",
       "      <td>1-2 Year</td>\n",
       "      <td>Yes</td>\n",
       "      <td>90789</td>\n",
       "      <td>26</td>\n",
       "      <td>186</td>\n",
       "      <td>1</td>\n",
       "    </tr>\n",
       "    <tr>\n",
       "      <th>429</th>\n",
       "      <td>Female</td>\n",
       "      <td>44</td>\n",
       "      <td>1</td>\n",
       "      <td>28</td>\n",
       "      <td>0</td>\n",
       "      <td>1-2 Year</td>\n",
       "      <td>Yes</td>\n",
       "      <td>119735</td>\n",
       "      <td>152</td>\n",
       "      <td>295</td>\n",
       "      <td>0</td>\n",
       "    </tr>\n",
       "    <tr>\n",
       "      <th>...</th>\n",
       "      <td>...</td>\n",
       "      <td>...</td>\n",
       "      <td>...</td>\n",
       "      <td>...</td>\n",
       "      <td>...</td>\n",
       "      <td>...</td>\n",
       "      <td>...</td>\n",
       "      <td>...</td>\n",
       "      <td>...</td>\n",
       "      <td>...</td>\n",
       "      <td>...</td>\n",
       "    </tr>\n",
       "    <tr>\n",
       "      <th>379812</th>\n",
       "      <td>Male</td>\n",
       "      <td>54</td>\n",
       "      <td>1</td>\n",
       "      <td>28</td>\n",
       "      <td>1</td>\n",
       "      <td>1-2 Year</td>\n",
       "      <td>No</td>\n",
       "      <td>93221</td>\n",
       "      <td>26</td>\n",
       "      <td>279</td>\n",
       "      <td>0</td>\n",
       "    </tr>\n",
       "    <tr>\n",
       "      <th>380119</th>\n",
       "      <td>Female</td>\n",
       "      <td>21</td>\n",
       "      <td>1</td>\n",
       "      <td>28</td>\n",
       "      <td>1</td>\n",
       "      <td>&lt; 1 Year</td>\n",
       "      <td>No</td>\n",
       "      <td>92283</td>\n",
       "      <td>152</td>\n",
       "      <td>15</td>\n",
       "      <td>0</td>\n",
       "    </tr>\n",
       "    <tr>\n",
       "      <th>380313</th>\n",
       "      <td>Female</td>\n",
       "      <td>46</td>\n",
       "      <td>1</td>\n",
       "      <td>28</td>\n",
       "      <td>0</td>\n",
       "      <td>1-2 Year</td>\n",
       "      <td>Yes</td>\n",
       "      <td>95453</td>\n",
       "      <td>124</td>\n",
       "      <td>62</td>\n",
       "      <td>0</td>\n",
       "    </tr>\n",
       "    <tr>\n",
       "      <th>380815</th>\n",
       "      <td>Female</td>\n",
       "      <td>32</td>\n",
       "      <td>1</td>\n",
       "      <td>28</td>\n",
       "      <td>1</td>\n",
       "      <td>&lt; 1 Year</td>\n",
       "      <td>No</td>\n",
       "      <td>91305</td>\n",
       "      <td>152</td>\n",
       "      <td>183</td>\n",
       "      <td>0</td>\n",
       "    </tr>\n",
       "    <tr>\n",
       "      <th>380998</th>\n",
       "      <td>Female</td>\n",
       "      <td>33</td>\n",
       "      <td>1</td>\n",
       "      <td>8</td>\n",
       "      <td>0</td>\n",
       "      <td>1-2 Year</td>\n",
       "      <td>Yes</td>\n",
       "      <td>101664</td>\n",
       "      <td>124</td>\n",
       "      <td>21</td>\n",
       "      <td>0</td>\n",
       "    </tr>\n",
       "  </tbody>\n",
       "</table>\n",
       "<p>2083 rows × 11 columns</p>\n",
       "</div>"
      ],
      "text/plain": [
       "        Gender  Age  Driving_License  Region_Code  Previously_Insured  \\\n",
       "167     Female   26                1            8                   0   \n",
       "176       Male   25                1           28                   1   \n",
       "315       Male   20                1           12                   0   \n",
       "401       Male   65                1           28                   0   \n",
       "429     Female   44                1           28                   0   \n",
       "...        ...  ...              ...          ...                 ...   \n",
       "379812    Male   54                1           28                   1   \n",
       "380119  Female   21                1           28                   1   \n",
       "380313  Female   46                1           28                   0   \n",
       "380815  Female   32                1           28                   1   \n",
       "380998  Female   33                1            8                   0   \n",
       "\n",
       "       Vehicle_Age Vehicle_Damage  Annual_Premium  Policy_Sales_Channel  \\\n",
       "167       < 1 Year            Yes           89282                   152   \n",
       "176       < 1 Year             No          101021                   152   \n",
       "315       < 1 Year            Yes           82705                   160   \n",
       "401       1-2 Year            Yes           90789                    26   \n",
       "429       1-2 Year            Yes          119735                   152   \n",
       "...            ...            ...             ...                   ...   \n",
       "379812    1-2 Year             No           93221                    26   \n",
       "380119    < 1 Year             No           92283                   152   \n",
       "380313    1-2 Year            Yes           95453                   124   \n",
       "380815    < 1 Year             No           91305                   152   \n",
       "380998    1-2 Year            Yes          101664                   124   \n",
       "\n",
       "        Vintage  Response  \n",
       "167         101         0  \n",
       "176          49         0  \n",
       "315          49         0  \n",
       "401         186         1  \n",
       "429         295         0  \n",
       "...         ...       ...  \n",
       "379812      279         0  \n",
       "380119       15         0  \n",
       "380313       62         0  \n",
       "380815      183         0  \n",
       "380998       21         0  \n",
       "\n",
       "[2083 rows x 11 columns]"
      ]
     },
     "execution_count": 104,
     "metadata": {},
     "output_type": "execute_result"
    }
   ],
   "source": [
    "data.loc[(data[\"Annual_Premium\"] > upper_limit_annual) | (data[\"Annual_Premium\"] < lower_limit_annual)]"
   ]
  },
  {
   "cell_type": "code",
   "execution_count": 105,
   "id": "81789dbc",
   "metadata": {},
   "outputs": [
    {
     "data": {
      "text/html": [
       "<div>\n",
       "<style scoped>\n",
       "    .dataframe tbody tr th:only-of-type {\n",
       "        vertical-align: middle;\n",
       "    }\n",
       "\n",
       "    .dataframe tbody tr th {\n",
       "        vertical-align: top;\n",
       "    }\n",
       "\n",
       "    .dataframe thead th {\n",
       "        text-align: right;\n",
       "    }\n",
       "</style>\n",
       "<table border=\"1\" class=\"dataframe\">\n",
       "  <thead>\n",
       "    <tr style=\"text-align: right;\">\n",
       "      <th></th>\n",
       "      <th>Gender</th>\n",
       "      <th>Age</th>\n",
       "      <th>Driving_License</th>\n",
       "      <th>Region_Code</th>\n",
       "      <th>Previously_Insured</th>\n",
       "      <th>Vehicle_Age</th>\n",
       "      <th>Vehicle_Damage</th>\n",
       "      <th>Annual_Premium</th>\n",
       "      <th>Policy_Sales_Channel</th>\n",
       "      <th>Vintage</th>\n",
       "      <th>Response</th>\n",
       "    </tr>\n",
       "  </thead>\n",
       "  <tbody>\n",
       "  </tbody>\n",
       "</table>\n",
       "</div>"
      ],
      "text/plain": [
       "Empty DataFrame\n",
       "Columns: [Gender, Age, Driving_License, Region_Code, Previously_Insured, Vehicle_Age, Vehicle_Damage, Annual_Premium, Policy_Sales_Channel, Vintage, Response]\n",
       "Index: []"
      ]
     },
     "execution_count": 105,
     "metadata": {},
     "output_type": "execute_result"
    }
   ],
   "source": [
    "data.loc[(data[\"Policy_Sales_Channel\"] > upper_limit_policy) | (data[\"Policy_Sales_Channel\"] < lower_limit_policy)]"
   ]
  },
  {
   "cell_type": "code",
   "execution_count": 106,
   "id": "44492b90",
   "metadata": {
    "scrolled": true
   },
   "outputs": [
    {
     "data": {
      "text/html": [
       "<div>\n",
       "<style scoped>\n",
       "    .dataframe tbody tr th:only-of-type {\n",
       "        vertical-align: middle;\n",
       "    }\n",
       "\n",
       "    .dataframe tbody tr th {\n",
       "        vertical-align: top;\n",
       "    }\n",
       "\n",
       "    .dataframe thead th {\n",
       "        text-align: right;\n",
       "    }\n",
       "</style>\n",
       "<table border=\"1\" class=\"dataframe\">\n",
       "  <thead>\n",
       "    <tr style=\"text-align: right;\">\n",
       "      <th></th>\n",
       "      <th>Gender</th>\n",
       "      <th>Age</th>\n",
       "      <th>Driving_License</th>\n",
       "      <th>Region_Code</th>\n",
       "      <th>Previously_Insured</th>\n",
       "      <th>Vehicle_Age</th>\n",
       "      <th>Vehicle_Damage</th>\n",
       "      <th>Annual_Premium</th>\n",
       "      <th>Policy_Sales_Channel</th>\n",
       "      <th>Vintage</th>\n",
       "      <th>Response</th>\n",
       "    </tr>\n",
       "  </thead>\n",
       "  <tbody>\n",
       "  </tbody>\n",
       "</table>\n",
       "</div>"
      ],
      "text/plain": [
       "Empty DataFrame\n",
       "Columns: [Gender, Age, Driving_License, Region_Code, Previously_Insured, Vehicle_Age, Vehicle_Damage, Annual_Premium, Policy_Sales_Channel, Vintage, Response]\n",
       "Index: []"
      ]
     },
     "execution_count": 106,
     "metadata": {},
     "output_type": "execute_result"
    }
   ],
   "source": [
    "data.loc[(data[\"Vintage\"] > upper_limit_vintage) | (data[\"Vintage\"] < lower_limit_vintage)]"
   ]
  },
  {
   "cell_type": "code",
   "execution_count": 107,
   "id": "272be84e",
   "metadata": {},
   "outputs": [
    {
     "data": {
      "text/plain": [
       "2083"
      ]
     },
     "execution_count": 107,
     "metadata": {},
     "output_type": "execute_result"
    }
   ],
   "source": [
    "len(data.loc[(data[\"Annual_Premium\"] > upper_limit_annual) | (data[\"Annual_Premium\"] < lower_limit_annual)])"
   ]
  },
  {
   "cell_type": "markdown",
   "id": "f531afe0",
   "metadata": {},
   "source": [
    "### We can see that there is no outliers in any of the columns except in `Annual_Premium`\n",
    "2083 rows are the outliers hence we can remove them"
   ]
  },
  {
   "cell_type": "code",
   "execution_count": 108,
   "id": "cd21d7e3",
   "metadata": {},
   "outputs": [
    {
     "name": "stdout",
     "output_type": "stream",
     "text": [
      "Old data :  381109\n",
      "New data :  379026\n",
      "Outliers :  2083\n"
     ]
    }
   ],
   "source": [
    "new_data = data.loc[(data[\"Annual_Premium\"] < upper_limit_annual) & (data[\"Annual_Premium\"] > lower_limit_annual)]\n",
    "print(\"Old data : \", len(data))\n",
    "print(\"New data : \",len(new_data))\n",
    "print(\"Outliers : \", len(data) - len(new_data))"
   ]
  },
  {
   "cell_type": "code",
   "execution_count": 109,
   "id": "65cdaf0c",
   "metadata": {},
   "outputs": [
    {
     "data": {
      "image/png": "[encoded data removed]",
      "text/plain": [
       "<Figure size 500x400 with 1 Axes>"
      ]
     },
     "metadata": {},
     "output_type": "display_data"
    }
   ],
   "source": [
    "plot_boxplot(df=new_data, column_name='Annual_Premium')"
   ]
  },
  {
   "cell_type": "markdown",
   "id": "2d94c065",
   "metadata": {},
   "source": [
    "**Correlation matrix**"
   ]
  },
  {
   "cell_type": "code",
   "execution_count": 132,
   "id": "8cf9fc30",
   "metadata": {
    "scrolled": false
   },
   "outputs": [
    {
     "name": "stderr",
     "output_type": "stream",
     "text": [
      "C:\\Users\\lenovo\\AppData\\Local\\Temp\\ipykernel_35312\\359882901.py:5: FutureWarning: The default value of numeric_only in DataFrame.corr is deprecated. In a future version, it will default to False. Select only valid columns or specify the value of numeric_only to silence this warning.\n",
      "  sns.heatmap(new_data.corr(), annot=True, cmap = \"coolwarm\")\n"
     ]
    },
    {
     "data": {
      "image/png": "[encoded data removed]",
      "text/plain": [
       "<Figure size 900x400 with 2 Axes>"
      ]
     },
     "metadata": {},
     "output_type": "display_data"
    }
   ],
   "source": [
    "# Increase the size of the plot\n",
    "plt.figure(figsize=(9, 4))  \n",
    "\n",
    "# Create the correlation matrix plot using seaborn's heatmap\n",
    "sns.heatmap(new_data.corr(), annot=True, cmap = \"coolwarm\")\n",
    "\n",
    "# Add title\n",
    "plt.title('Correlation Matrix')\n",
    "\n",
    "# Display the plot\n",
    "plt.show()"
   ]
  },
  {
   "cell_type": "code",
   "execution_count": 137,
   "id": "6cfd2de7",
   "metadata": {},
   "outputs": [
    {
     "data": {
      "text/html": [
       "<div>\n",
       "<style scoped>\n",
       "    .dataframe tbody tr th:only-of-type {\n",
       "        vertical-align: middle;\n",
       "    }\n",
       "\n",
       "    .dataframe tbody tr th {\n",
       "        vertical-align: top;\n",
       "    }\n",
       "\n",
       "    .dataframe thead th {\n",
       "        text-align: right;\n",
       "    }\n",
       "</style>\n",
       "<table border=\"1\" class=\"dataframe\">\n",
       "  <thead>\n",
       "    <tr style=\"text-align: right;\">\n",
       "      <th></th>\n",
       "      <th>0</th>\n",
       "      <th>1</th>\n",
       "      <th>2</th>\n",
       "      <th>3</th>\n",
       "      <th>4</th>\n",
       "    </tr>\n",
       "  </thead>\n",
       "  <tbody>\n",
       "    <tr>\n",
       "      <th>Gender</th>\n",
       "      <td>Male</td>\n",
       "      <td>Male</td>\n",
       "      <td>Male</td>\n",
       "      <td>Male</td>\n",
       "      <td>Female</td>\n",
       "    </tr>\n",
       "    <tr>\n",
       "      <th>Age</th>\n",
       "      <td>44</td>\n",
       "      <td>76</td>\n",
       "      <td>47</td>\n",
       "      <td>21</td>\n",
       "      <td>29</td>\n",
       "    </tr>\n",
       "    <tr>\n",
       "      <th>Driving_License</th>\n",
       "      <td>1</td>\n",
       "      <td>1</td>\n",
       "      <td>1</td>\n",
       "      <td>1</td>\n",
       "      <td>1</td>\n",
       "    </tr>\n",
       "    <tr>\n",
       "      <th>Region_Code</th>\n",
       "      <td>28</td>\n",
       "      <td>3</td>\n",
       "      <td>28</td>\n",
       "      <td>11</td>\n",
       "      <td>41</td>\n",
       "    </tr>\n",
       "    <tr>\n",
       "      <th>Previously_Insured</th>\n",
       "      <td>0</td>\n",
       "      <td>0</td>\n",
       "      <td>0</td>\n",
       "      <td>1</td>\n",
       "      <td>1</td>\n",
       "    </tr>\n",
       "    <tr>\n",
       "      <th>Vehicle_Age</th>\n",
       "      <td>&gt; 2 Years</td>\n",
       "      <td>1-2 Year</td>\n",
       "      <td>&gt; 2 Years</td>\n",
       "      <td>&lt; 1 Year</td>\n",
       "      <td>&lt; 1 Year</td>\n",
       "    </tr>\n",
       "    <tr>\n",
       "      <th>Vehicle_Damage</th>\n",
       "      <td>Yes</td>\n",
       "      <td>No</td>\n",
       "      <td>Yes</td>\n",
       "      <td>No</td>\n",
       "      <td>No</td>\n",
       "    </tr>\n",
       "    <tr>\n",
       "      <th>Annual_Premium</th>\n",
       "      <td>40454</td>\n",
       "      <td>33536</td>\n",
       "      <td>38294</td>\n",
       "      <td>28619</td>\n",
       "      <td>27496</td>\n",
       "    </tr>\n",
       "    <tr>\n",
       "      <th>Policy_Sales_Channel</th>\n",
       "      <td>26</td>\n",
       "      <td>26</td>\n",
       "      <td>26</td>\n",
       "      <td>152</td>\n",
       "      <td>152</td>\n",
       "    </tr>\n",
       "    <tr>\n",
       "      <th>Vintage</th>\n",
       "      <td>217</td>\n",
       "      <td>183</td>\n",
       "      <td>27</td>\n",
       "      <td>203</td>\n",
       "      <td>39</td>\n",
       "    </tr>\n",
       "    <tr>\n",
       "      <th>Response</th>\n",
       "      <td>1</td>\n",
       "      <td>0</td>\n",
       "      <td>1</td>\n",
       "      <td>0</td>\n",
       "      <td>0</td>\n",
       "    </tr>\n",
       "  </tbody>\n",
       "</table>\n",
       "</div>"
      ],
      "text/plain": [
       "                              0         1          2         3         4\n",
       "Gender                     Male      Male       Male      Male    Female\n",
       "Age                          44        76         47        21        29\n",
       "Driving_License               1         1          1         1         1\n",
       "Region_Code                  28         3         28        11        41\n",
       "Previously_Insured            0         0          0         1         1\n",
       "Vehicle_Age           > 2 Years  1-2 Year  > 2 Years  < 1 Year  < 1 Year\n",
       "Vehicle_Damage              Yes        No        Yes        No        No\n",
       "Annual_Premium            40454     33536      38294     28619     27496\n",
       "Policy_Sales_Channel         26        26         26       152       152\n",
       "Vintage                     217       183         27       203        39\n",
       "Response                      1         0          1         0         0"
      ]
     },
     "execution_count": 137,
     "metadata": {},
     "output_type": "execute_result"
    }
   ],
   "source": [
    "new_data.head().T"
   ]
  },
  {
   "cell_type": "code",
   "execution_count": 139,
   "id": "90364af6",
   "metadata": {},
   "outputs": [
    {
     "data": {
      "text/plain": [
       "(381109, 11)"
      ]
     },
     "execution_count": 139,
     "metadata": {},
     "output_type": "execute_result"
    }
   ],
   "source": [
    "data.shape"
   ]
  },
  {
   "cell_type": "code",
   "execution_count": 138,
   "id": "418f3a8a",
   "metadata": {},
   "outputs": [
    {
     "data": {
      "text/plain": [
       "(379026, 11)"
      ]
     },
     "execution_count": 138,
     "metadata": {},
     "output_type": "execute_result"
    }
   ],
   "source": [
    "new_data.shape"
   ]
  },
  {
   "cell_type": "markdown",
   "id": "90cde500",
   "metadata": {},
   "source": [
    "# Export the Data"
   ]
  },
  {
   "cell_type": "code",
   "execution_count": 140,
   "id": "97bddab4",
   "metadata": {},
   "outputs": [],
   "source": [
    "new_data.to_csv(\"modelling-data-final.csv\", index = False)"
   ]
  },
  {
   "cell_type": "markdown",
   "id": "a409cab5",
   "metadata": {},
   "source": [
    "## Turn Categorical Features into numbers \n",
    "**We are using OneHotEncoder**\n",
    "> Before that we will split the data into X and y"
   ]
  },
  {
   "cell_type": "markdown",
   "id": "cccb7a76",
   "metadata": {},
   "source": [
    "**Split into X & y**"
   ]
  },
  {
   "cell_type": "code",
   "execution_count": 112,
   "id": "57785dc1",
   "metadata": {},
   "outputs": [],
   "source": [
    "# X_1 = data.drop(\"Response\", axis=1)\n",
    "# y_1 = data[\"Response\"]"
   ]
  },
  {
   "cell_type": "code",
   "execution_count": 113,
   "id": "cd31a53c",
   "metadata": {},
   "outputs": [],
   "source": [
    "# # X Before transforming\n",
    "# X_1.head().T"
   ]
  },
  {
   "cell_type": "code",
   "execution_count": 114,
   "id": "f58dfcbb",
   "metadata": {},
   "outputs": [],
   "source": [
    "# # Name the categorical features in a list\n",
    "# categorical_features = [\"Gender\", \"Vehicle_Age\", \"Vehicle_Damage\" ]\n",
    "\n",
    "# # Instantiate OneHotEncoder and ColumnTransformer \n",
    "# one_hot = OneHotEncoder()\n",
    "# transformer = ColumnTransformer([(\"one_hot\", one_hot, categorical_features)],\n",
    "#                                 remainder = \"passthrough\")\n",
    "\n",
    "# # Converting features\n",
    "# transformed_X = transformer.fit_transform(X_1)"
   ]
  },
  {
   "cell_type": "code",
   "execution_count": 115,
   "id": "9866a1a5",
   "metadata": {},
   "outputs": [],
   "source": [
    "# # X After transforming\n",
    "# (pd.DataFrame(transformed_X)).head().T"
   ]
  },
  {
   "cell_type": "code",
   "execution_count": 116,
   "id": "eb2c7c3e",
   "metadata": {},
   "outputs": [],
   "source": [
    "# dummies = pd.get_dummies(data[[\"Gender\", \"Vehicle_Age\", \"Vehicle_Damage\"]])\n",
    "# dummies.head(11).T"
   ]
  }
 ],
 "metadata": {
  "kernelspec": {
   "display_name": "Python 3 (ipykernel)",
   "language": "python",
   "name": "python3"
  },
  "language_info": {
   "codemirror_mode": {
    "name": "ipython",
    "version": 3
   },
   "file_extension": ".py",
   "mimetype": "text/x-python",
   "name": "python",
   "nbconvert_exporter": "python",
   "pygments_lexer": "ipython3",
   "version": "3.11.4"
  }
 },
 "nbformat": 4,
 "nbformat_minor": 5
}
